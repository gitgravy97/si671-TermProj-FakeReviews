{
  "nbformat": 4,
  "nbformat_minor": 0,
  "metadata": {
    "colab": {
      "name": "Features+Models.ipynb",
      "provenance": [],
      "collapsed_sections": [],
      "toc_visible": true
    },
    "kernelspec": {
      "name": "python3",
      "display_name": "Python 3"
    }
  },
  "cells": [
    {
      "cell_type": "markdown",
      "metadata": {
        "id": "3bNpt7dMYYyP"
      },
      "source": [
        "# SI 671 - Amazon Review Fraud Detection Project"
      ]
    },
    {
      "cell_type": "markdown",
      "metadata": {
        "id": "xIcyy0oEYb4_"
      },
      "source": [
        "# Cleanup & Feature Engineering\n",
        "Notebook Intent: Clean up the textual fields and work on extracting features that might have interesting correlations / predictive likelihoods to help distinguish real and fake reviews.\n",
        "\n",
        "# Disclaimer\n",
        "- Writing this chunk as I copy things over to github\n",
        "- Retrospectively seeing a lot of code here that violates the DRY Principle and should've been functionalized\n",
        "- Archiving the code with that not-fixed but keep in mind if referencing in future"
      ]
    },
    {
      "cell_type": "markdown",
      "metadata": {
        "id": "6DS0bfNlZGQ6"
      },
      "source": [
        "## Setup"
      ]
    },
    {
      "cell_type": "code",
      "metadata": {
        "id": "eEG8yqXmYOSj"
      },
      "source": [
        "import pandas as pd\n",
        "import numpy as np"
      ],
      "execution_count": null,
      "outputs": []
    },
    {
      "cell_type": "code",
      "metadata": {
        "colab": {
          "base_uri": "https://localhost:8080/"
        },
        "id": "AlcCh_sLZIa1",
        "outputId": "46bb3e12-3397-4f47-ebdc-8a272e6e730b"
      },
      "source": [
        "from google.colab import drive\n",
        "drive.mount('/content/drive')"
      ],
      "execution_count": null,
      "outputs": [
        {
          "output_type": "stream",
          "text": [
            "Mounted at /content/drive\n"
          ],
          "name": "stdout"
        }
      ]
    },
    {
      "cell_type": "code",
      "metadata": {
        "id": "EgDGdm2kfImc"
      },
      "source": [
        "import nltk\n",
        "from nltk.corpus import stopwords\n",
        "from nltk.stem.porter import PorterStemmer\n",
        "from nltk.tokenize import RegexpTokenizer\n",
        "from nltk.stem import WordNetLemmatizer"
      ],
      "execution_count": null,
      "outputs": []
    },
    {
      "cell_type": "code",
      "metadata": {
        "colab": {
          "base_uri": "https://localhost:8080/"
        },
        "id": "YnZ6H8GYfKf_",
        "outputId": "44a4e18b-92f2-4258-864b-b6aa7bc9c569"
      },
      "source": [
        "nltk.download('punkt')\n",
        "nltk.download('wordnet') \n",
        "nltk.download('stopwords')\n",
        "nltk.download('averaged_perceptron_tagger') #POS Tag"
      ],
      "execution_count": null,
      "outputs": [
        {
          "output_type": "stream",
          "text": [
            "[nltk_data] Downloading package punkt to /root/nltk_data...\n",
            "[nltk_data]   Unzipping tokenizers/punkt.zip.\n",
            "[nltk_data] Downloading package wordnet to /root/nltk_data...\n",
            "[nltk_data]   Unzipping corpora/wordnet.zip.\n",
            "[nltk_data] Downloading package stopwords to /root/nltk_data...\n",
            "[nltk_data]   Unzipping corpora/stopwords.zip.\n",
            "[nltk_data] Downloading package averaged_perceptron_tagger to\n",
            "[nltk_data]     /root/nltk_data...\n",
            "[nltk_data]   Unzipping taggers/averaged_perceptron_tagger.zip.\n"
          ],
          "name": "stdout"
        },
        {
          "output_type": "execute_result",
          "data": {
            "text/plain": [
              "True"
            ]
          },
          "metadata": {
            "tags": []
          },
          "execution_count": 4
        }
      ]
    },
    {
      "cell_type": "code",
      "metadata": {
        "id": "W2Zm5bS3m_bY"
      },
      "source": [
        "import warnings\n",
        "warnings.filterwarnings('ignore')"
      ],
      "execution_count": null,
      "outputs": []
    },
    {
      "cell_type": "code",
      "metadata": {
        "colab": {
          "base_uri": "https://localhost:8080/",
          "height": 158
        },
        "id": "KIG_TMoUZJws",
        "outputId": "c442455e-0af4-4614-f300-7075245f2791"
      },
      "source": [
        "# df = pd.read_csv(\"amazon_reviews.txt\", sep=\"\\t\")\n",
        "df = pd.read_csv('drive/Shared drives/SI671 Project [Data Mining]/data/amazon_reviews.txt', sep='\\t') \n",
        "print(f\"{df.shape[0]} records\")\n",
        "\n",
        "df.head(3)"
      ],
      "execution_count": null,
      "outputs": [
        {
          "output_type": "stream",
          "text": [
            "21000 records\n"
          ],
          "name": "stdout"
        },
        {
          "output_type": "execute_result",
          "data": {
            "text/html": [
              "<div>\n",
              "<style scoped>\n",
              "    .dataframe tbody tr th:only-of-type {\n",
              "        vertical-align: middle;\n",
              "    }\n",
              "\n",
              "    .dataframe tbody tr th {\n",
              "        vertical-align: top;\n",
              "    }\n",
              "\n",
              "    .dataframe thead th {\n",
              "        text-align: right;\n",
              "    }\n",
              "</style>\n",
              "<table border=\"1\" class=\"dataframe\">\n",
              "  <thead>\n",
              "    <tr style=\"text-align: right;\">\n",
              "      <th></th>\n",
              "      <th>DOC_ID</th>\n",
              "      <th>LABEL</th>\n",
              "      <th>RATING</th>\n",
              "      <th>VERIFIED_PURCHASE</th>\n",
              "      <th>PRODUCT_CATEGORY</th>\n",
              "      <th>PRODUCT_ID</th>\n",
              "      <th>PRODUCT_TITLE</th>\n",
              "      <th>REVIEW_TITLE</th>\n",
              "      <th>REVIEW_TEXT</th>\n",
              "    </tr>\n",
              "  </thead>\n",
              "  <tbody>\n",
              "    <tr>\n",
              "      <th>0</th>\n",
              "      <td>1</td>\n",
              "      <td>__label1__</td>\n",
              "      <td>4</td>\n",
              "      <td>N</td>\n",
              "      <td>PC</td>\n",
              "      <td>B00008NG7N</td>\n",
              "      <td>Targus PAUK10U Ultra Mini USB Keypad, Black</td>\n",
              "      <td>useful</td>\n",
              "      <td>When least you think so, this product will sav...</td>\n",
              "    </tr>\n",
              "    <tr>\n",
              "      <th>1</th>\n",
              "      <td>2</td>\n",
              "      <td>__label1__</td>\n",
              "      <td>4</td>\n",
              "      <td>Y</td>\n",
              "      <td>Wireless</td>\n",
              "      <td>B00LH0Y3NM</td>\n",
              "      <td>Note 3 Battery : Stalion Strength Replacement ...</td>\n",
              "      <td>New era for batteries</td>\n",
              "      <td>Lithium batteries are something new introduced...</td>\n",
              "    </tr>\n",
              "    <tr>\n",
              "      <th>2</th>\n",
              "      <td>3</td>\n",
              "      <td>__label1__</td>\n",
              "      <td>3</td>\n",
              "      <td>N</td>\n",
              "      <td>Baby</td>\n",
              "      <td>B000I5UZ1Q</td>\n",
              "      <td>Fisher-Price Papasan Cradle Swing, Starlight</td>\n",
              "      <td>doesn't swing very well.</td>\n",
              "      <td>I purchased this swing for my baby. She is 6 m...</td>\n",
              "    </tr>\n",
              "  </tbody>\n",
              "</table>\n",
              "</div>"
            ],
            "text/plain": [
              "   DOC_ID  ...                                        REVIEW_TEXT\n",
              "0       1  ...  When least you think so, this product will sav...\n",
              "1       2  ...  Lithium batteries are something new introduced...\n",
              "2       3  ...  I purchased this swing for my baby. She is 6 m...\n",
              "\n",
              "[3 rows x 9 columns]"
            ]
          },
          "metadata": {
            "tags": []
          },
          "execution_count": 6
        }
      ]
    },
    {
      "cell_type": "markdown",
      "metadata": {
        "id": "tB_zx0H6cR-8"
      },
      "source": [
        "## Quick Cleans: Pseudo-Bools to Binary"
      ]
    },
    {
      "cell_type": "code",
      "metadata": {
        "id": "fxgFFrcXcWTC"
      },
      "source": [
        "#### Convert native labels to more intuitive and binary expression\n",
        "df = df.rename(columns={'LABEL':'LEGIT'})\n",
        "df.LEGIT = df.LEGIT.replace(\"__label1__\",0).replace(\"__label2__\",1)\n",
        "\n",
        "#### Convert verified status to binary expression\n",
        "df.VERIFIED_PURCHASE = df.VERIFIED_PURCHASE.replace(\"N\",0).replace(\"Y\",1)"
      ],
      "execution_count": null,
      "outputs": []
    },
    {
      "cell_type": "code",
      "metadata": {
        "colab": {
          "base_uri": "https://localhost:8080/",
          "height": 141
        },
        "id": "xqHWCppMcs55",
        "outputId": "00194b51-a74f-48b5-bb53-2807807b564d"
      },
      "source": [
        "df.head(3)"
      ],
      "execution_count": null,
      "outputs": [
        {
          "output_type": "execute_result",
          "data": {
            "text/html": [
              "<div>\n",
              "<style scoped>\n",
              "    .dataframe tbody tr th:only-of-type {\n",
              "        vertical-align: middle;\n",
              "    }\n",
              "\n",
              "    .dataframe tbody tr th {\n",
              "        vertical-align: top;\n",
              "    }\n",
              "\n",
              "    .dataframe thead th {\n",
              "        text-align: right;\n",
              "    }\n",
              "</style>\n",
              "<table border=\"1\" class=\"dataframe\">\n",
              "  <thead>\n",
              "    <tr style=\"text-align: right;\">\n",
              "      <th></th>\n",
              "      <th>DOC_ID</th>\n",
              "      <th>LEGIT</th>\n",
              "      <th>RATING</th>\n",
              "      <th>VERIFIED_PURCHASE</th>\n",
              "      <th>PRODUCT_CATEGORY</th>\n",
              "      <th>PRODUCT_ID</th>\n",
              "      <th>PRODUCT_TITLE</th>\n",
              "      <th>REVIEW_TITLE</th>\n",
              "      <th>REVIEW_TEXT</th>\n",
              "    </tr>\n",
              "  </thead>\n",
              "  <tbody>\n",
              "    <tr>\n",
              "      <th>0</th>\n",
              "      <td>1</td>\n",
              "      <td>0</td>\n",
              "      <td>4</td>\n",
              "      <td>0</td>\n",
              "      <td>PC</td>\n",
              "      <td>B00008NG7N</td>\n",
              "      <td>Targus PAUK10U Ultra Mini USB Keypad, Black</td>\n",
              "      <td>useful</td>\n",
              "      <td>When least you think so, this product will sav...</td>\n",
              "    </tr>\n",
              "    <tr>\n",
              "      <th>1</th>\n",
              "      <td>2</td>\n",
              "      <td>0</td>\n",
              "      <td>4</td>\n",
              "      <td>1</td>\n",
              "      <td>Wireless</td>\n",
              "      <td>B00LH0Y3NM</td>\n",
              "      <td>Note 3 Battery : Stalion Strength Replacement ...</td>\n",
              "      <td>New era for batteries</td>\n",
              "      <td>Lithium batteries are something new introduced...</td>\n",
              "    </tr>\n",
              "    <tr>\n",
              "      <th>2</th>\n",
              "      <td>3</td>\n",
              "      <td>0</td>\n",
              "      <td>3</td>\n",
              "      <td>0</td>\n",
              "      <td>Baby</td>\n",
              "      <td>B000I5UZ1Q</td>\n",
              "      <td>Fisher-Price Papasan Cradle Swing, Starlight</td>\n",
              "      <td>doesn't swing very well.</td>\n",
              "      <td>I purchased this swing for my baby. She is 6 m...</td>\n",
              "    </tr>\n",
              "  </tbody>\n",
              "</table>\n",
              "</div>"
            ],
            "text/plain": [
              "   DOC_ID  ...                                        REVIEW_TEXT\n",
              "0       1  ...  When least you think so, this product will sav...\n",
              "1       2  ...  Lithium batteries are something new introduced...\n",
              "2       3  ...  I purchased this swing for my baby. She is 6 m...\n",
              "\n",
              "[3 rows x 9 columns]"
            ]
          },
          "metadata": {
            "tags": []
          },
          "execution_count": 8
        }
      ]
    },
    {
      "cell_type": "markdown",
      "metadata": {
        "id": "Pkc-w9s8ZSun"
      },
      "source": [
        "## General Cleaning for Textual Fields\n",
        "- Standardize lowercase\n",
        "- Tokenize review text (regexp tokenizer for now, can try to improve on the pattern)\n",
        "- Remove the stopwords (using the NLTK English stopwords corpus)\n",
        "- Check out stemmers and lemmers\n",
        "\n",
        "Deciding on using a lemmer rather than a stemmer. Relevant Medium article <a href=\"https://medium.com/@gaurav5430/using-nltk-for-lemmatizing-sentences-c1bfff963258\">here</a>. Moreso a part-of-speech-presevering measure, incase we want to play with that."
      ]
    },
    {
      "cell_type": "code",
      "metadata": {
        "id": "NSCDej9oZSNW"
      },
      "source": [
        "def process_text(text_col):\n",
        "    #### Note 1: using the \\w+ pattern could throw numericals, possible negligible, possibly not\n",
        "    #### Note 2: lemmer decided over stemmer due to potential POS preservation utility\n",
        "    #### Note 3: Removing stopwords could throw mess with negation detection. \n",
        "    ####         ----> \"not\" in spot_words == True\n",
        "    text_list = []\n",
        "    stop_words = stopwords.words('english')\n",
        "    tk = RegexpTokenizer('\\w+')\n",
        "    lemmer = WordNetLemmatizer()\n",
        "    \n",
        "    for review in text_col:\n",
        "        a = review.lower()\n",
        "        b = tk.tokenize(a)\n",
        "        c = [i for i in b if i not in stop_words]\n",
        "        ## d = [stemmer.stem(i) for i in c] ## e = [lemmer.lemmatize(i) for i in d]\n",
        "        e = [lemmer.lemmatize(i) for i in c]\n",
        "        \n",
        "        text_list.append(e)\n",
        "    return text_list\n"
      ],
      "execution_count": null,
      "outputs": []
    },
    {
      "cell_type": "code",
      "metadata": {
        "id": "eFnXNUl3ZQ86"
      },
      "source": [
        "#### converting to lowercase due to being an us-made feature\n",
        "df[\"review_tokens\"] = process_text(df.REVIEW_TEXT)"
      ],
      "execution_count": null,
      "outputs": []
    },
    {
      "cell_type": "code",
      "metadata": {
        "colab": {
          "base_uri": "https://localhost:8080/",
          "height": 141
        },
        "id": "3nFIKScpZ-54",
        "outputId": "816d3ec4-3a15-4047-b135-43410e0208ee"
      },
      "source": [
        "df.head(3)"
      ],
      "execution_count": null,
      "outputs": [
        {
          "output_type": "execute_result",
          "data": {
            "text/html": [
              "<div>\n",
              "<style scoped>\n",
              "    .dataframe tbody tr th:only-of-type {\n",
              "        vertical-align: middle;\n",
              "    }\n",
              "\n",
              "    .dataframe tbody tr th {\n",
              "        vertical-align: top;\n",
              "    }\n",
              "\n",
              "    .dataframe thead th {\n",
              "        text-align: right;\n",
              "    }\n",
              "</style>\n",
              "<table border=\"1\" class=\"dataframe\">\n",
              "  <thead>\n",
              "    <tr style=\"text-align: right;\">\n",
              "      <th></th>\n",
              "      <th>DOC_ID</th>\n",
              "      <th>LEGIT</th>\n",
              "      <th>RATING</th>\n",
              "      <th>VERIFIED_PURCHASE</th>\n",
              "      <th>PRODUCT_CATEGORY</th>\n",
              "      <th>PRODUCT_ID</th>\n",
              "      <th>PRODUCT_TITLE</th>\n",
              "      <th>REVIEW_TITLE</th>\n",
              "      <th>REVIEW_TEXT</th>\n",
              "      <th>review_tokens</th>\n",
              "    </tr>\n",
              "  </thead>\n",
              "  <tbody>\n",
              "    <tr>\n",
              "      <th>0</th>\n",
              "      <td>1</td>\n",
              "      <td>0</td>\n",
              "      <td>4</td>\n",
              "      <td>0</td>\n",
              "      <td>PC</td>\n",
              "      <td>B00008NG7N</td>\n",
              "      <td>Targus PAUK10U Ultra Mini USB Keypad, Black</td>\n",
              "      <td>useful</td>\n",
              "      <td>When least you think so, this product will sav...</td>\n",
              "      <td>[least, think, product, save, day, keep, aroun...</td>\n",
              "    </tr>\n",
              "    <tr>\n",
              "      <th>1</th>\n",
              "      <td>2</td>\n",
              "      <td>0</td>\n",
              "      <td>4</td>\n",
              "      <td>1</td>\n",
              "      <td>Wireless</td>\n",
              "      <td>B00LH0Y3NM</td>\n",
              "      <td>Note 3 Battery : Stalion Strength Replacement ...</td>\n",
              "      <td>New era for batteries</td>\n",
              "      <td>Lithium batteries are something new introduced...</td>\n",
              "      <td>[lithium, battery, something, new, introduced,...</td>\n",
              "    </tr>\n",
              "    <tr>\n",
              "      <th>2</th>\n",
              "      <td>3</td>\n",
              "      <td>0</td>\n",
              "      <td>3</td>\n",
              "      <td>0</td>\n",
              "      <td>Baby</td>\n",
              "      <td>B000I5UZ1Q</td>\n",
              "      <td>Fisher-Price Papasan Cradle Swing, Starlight</td>\n",
              "      <td>doesn't swing very well.</td>\n",
              "      <td>I purchased this swing for my baby. She is 6 m...</td>\n",
              "      <td>[purchased, swing, baby, 6, month, pretty, muc...</td>\n",
              "    </tr>\n",
              "  </tbody>\n",
              "</table>\n",
              "</div>"
            ],
            "text/plain": [
              "   DOC_ID  ...                                      review_tokens\n",
              "0       1  ...  [least, think, product, save, day, keep, aroun...\n",
              "1       2  ...  [lithium, battery, something, new, introduced,...\n",
              "2       3  ...  [purchased, swing, baby, 6, month, pretty, muc...\n",
              "\n",
              "[3 rows x 10 columns]"
            ]
          },
          "metadata": {
            "tags": []
          },
          "execution_count": 11
        }
      ]
    },
    {
      "cell_type": "code",
      "metadata": {
        "colab": {
          "base_uri": "https://localhost:8080/"
        },
        "id": "1TQVKA0Qgrzk",
        "outputId": "1e53a5c3-a6e7-45a0-9fa6-5fa425b5eb8b"
      },
      "source": [
        "#### To reconstitute review tokens into a sentence, just do this:\n",
        "df.review_tokens.apply(lambda x: \" \".join(x))[:5]"
      ],
      "execution_count": null,
      "outputs": [
        {
          "output_type": "execute_result",
          "data": {
            "text/plain": [
              "0    least think product save day keep around case ...\n",
              "1    lithium battery something new introduced marke...\n",
              "2    purchased swing baby 6 month pretty much grown...\n",
              "3    looking inexpensive desk calcolatur work every...\n",
              "4    use twice week result great used teeth whiteni...\n",
              "Name: review_tokens, dtype: object"
            ]
          },
          "metadata": {
            "tags": []
          },
          "execution_count": 12
        }
      ]
    },
    {
      "cell_type": "markdown",
      "metadata": {
        "id": "ln05JDorffw9"
      },
      "source": [
        "## Feature Extraction Ideas"
      ]
    },
    {
      "cell_type": "markdown",
      "metadata": {
        "id": "n3h4BqMlo6YY"
      },
      "source": [
        "### Easy Generics Tier\n",
        "- count(char length)\n",
        "- count(word length)\n",
        "- count(unique terms)\n",
        "- maybe count(symbols in field)"
      ]
    },
    {
      "cell_type": "code",
      "metadata": {
        "id": "aDD2ZRJtQ0Eq"
      },
      "source": [
        "#### #### #### #### #### #### #### #### #### #### #### #### #### #### #### \n",
        "# Could also run REVIEW_TITLE through these, maybe after text_cleanup()  #\n",
        "#### #### #### #### #### #### #### #### #### #### #### #### #### #### ####\n",
        "\n",
        "def build_length_features(df):\n",
        "    frame = df.copy()\n",
        "    frame['body_char_len'] = frame['REVIEW_TEXT'].apply(lambda x: len(x))\n",
        "    frame['body_word_len'] = frame['REVIEW_TEXT'].apply(lambda x: len(x.split()))\n",
        "    frame['body_token_len'] = frame['review_tokens'].apply(lambda x: len(x))\n",
        "    #### sets(list) ==> remove all duplicates, so len(set(list)) == unique term count\n",
        "    frame['uniq_body_tokens'] = frame['review_tokens'].apply(lambda x: len(set(x)))\n",
        "    return(frame)"
      ],
      "execution_count": null,
      "outputs": []
    },
    {
      "cell_type": "code",
      "metadata": {
        "colab": {
          "base_uri": "https://localhost:8080/",
          "height": 193
        },
        "id": "RFiyuaCnRZf1",
        "outputId": "ca2b3d24-845a-4765-976d-a3a5b2b101c3"
      },
      "source": [
        "df = build_length_features(df=df)\n",
        "df.head(3)"
      ],
      "execution_count": null,
      "outputs": [
        {
          "output_type": "execute_result",
          "data": {
            "text/html": [
              "<div>\n",
              "<style scoped>\n",
              "    .dataframe tbody tr th:only-of-type {\n",
              "        vertical-align: middle;\n",
              "    }\n",
              "\n",
              "    .dataframe tbody tr th {\n",
              "        vertical-align: top;\n",
              "    }\n",
              "\n",
              "    .dataframe thead th {\n",
              "        text-align: right;\n",
              "    }\n",
              "</style>\n",
              "<table border=\"1\" class=\"dataframe\">\n",
              "  <thead>\n",
              "    <tr style=\"text-align: right;\">\n",
              "      <th></th>\n",
              "      <th>DOC_ID</th>\n",
              "      <th>LEGIT</th>\n",
              "      <th>RATING</th>\n",
              "      <th>VERIFIED_PURCHASE</th>\n",
              "      <th>PRODUCT_CATEGORY</th>\n",
              "      <th>PRODUCT_ID</th>\n",
              "      <th>PRODUCT_TITLE</th>\n",
              "      <th>REVIEW_TITLE</th>\n",
              "      <th>REVIEW_TEXT</th>\n",
              "      <th>review_tokens</th>\n",
              "      <th>body_char_len</th>\n",
              "      <th>body_word_len</th>\n",
              "      <th>body_token_len</th>\n",
              "      <th>uniq_body_tokens</th>\n",
              "    </tr>\n",
              "  </thead>\n",
              "  <tbody>\n",
              "    <tr>\n",
              "      <th>0</th>\n",
              "      <td>1</td>\n",
              "      <td>0</td>\n",
              "      <td>4</td>\n",
              "      <td>0</td>\n",
              "      <td>PC</td>\n",
              "      <td>B00008NG7N</td>\n",
              "      <td>Targus PAUK10U Ultra Mini USB Keypad, Black</td>\n",
              "      <td>useful</td>\n",
              "      <td>When least you think so, this product will sav...</td>\n",
              "      <td>[least, think, product, save, day, keep, aroun...</td>\n",
              "      <td>116</td>\n",
              "      <td>23</td>\n",
              "      <td>10</td>\n",
              "      <td>10</td>\n",
              "    </tr>\n",
              "    <tr>\n",
              "      <th>1</th>\n",
              "      <td>2</td>\n",
              "      <td>0</td>\n",
              "      <td>4</td>\n",
              "      <td>1</td>\n",
              "      <td>Wireless</td>\n",
              "      <td>B00LH0Y3NM</td>\n",
              "      <td>Note 3 Battery : Stalion Strength Replacement ...</td>\n",
              "      <td>New era for batteries</td>\n",
              "      <td>Lithium batteries are something new introduced...</td>\n",
              "      <td>[lithium, battery, something, new, introduced,...</td>\n",
              "      <td>404</td>\n",
              "      <td>69</td>\n",
              "      <td>40</td>\n",
              "      <td>36</td>\n",
              "    </tr>\n",
              "    <tr>\n",
              "      <th>2</th>\n",
              "      <td>3</td>\n",
              "      <td>0</td>\n",
              "      <td>3</td>\n",
              "      <td>0</td>\n",
              "      <td>Baby</td>\n",
              "      <td>B000I5UZ1Q</td>\n",
              "      <td>Fisher-Price Papasan Cradle Swing, Starlight</td>\n",
              "      <td>doesn't swing very well.</td>\n",
              "      <td>I purchased this swing for my baby. She is 6 m...</td>\n",
              "      <td>[purchased, swing, baby, 6, month, pretty, muc...</td>\n",
              "      <td>248</td>\n",
              "      <td>52</td>\n",
              "      <td>20</td>\n",
              "      <td>19</td>\n",
              "    </tr>\n",
              "  </tbody>\n",
              "</table>\n",
              "</div>"
            ],
            "text/plain": [
              "   DOC_ID  LEGIT  RATING  ...  body_word_len body_token_len uniq_body_tokens\n",
              "0       1      0       4  ...             23             10               10\n",
              "1       2      0       4  ...             69             40               36\n",
              "2       3      0       3  ...             52             20               19\n",
              "\n",
              "[3 rows x 14 columns]"
            ]
          },
          "metadata": {
            "tags": []
          },
          "execution_count": 14
        }
      ]
    },
    {
      "cell_type": "markdown",
      "metadata": {
        "id": "UDW1PDEMYgdr"
      },
      "source": [
        "## King Helper Function "
      ]
    },
    {
      "cell_type": "code",
      "metadata": {
        "id": "BnAZRPgcYgvS"
      },
      "source": [
        "def contains_breakdown(df, term):\n",
        "    #### Helper function to note proportional separation signals of term towards legitimacy or fraud\n",
        "    try:\n",
        "        total = df[df.REVIEW_TEXT.str.contains(term, case=False)]\n",
        "        fake, legit = (total.LEGIT.value_counts()[0], total.LEGIT.value_counts()[1])\n",
        "        print(f\"[{term.upper()}] :: {total.shape[0]} results total\")\n",
        "        print(f\"    Legit:\\t{legit} \\t----> {round(legit/total.shape[0]*100,4)}%\")\n",
        "        print(f\"    Fake:\\t{fake} \\t----> {round(fake/total.shape[0]*100,4)}%\\n\")\n",
        "    except:\n",
        "        print(\"well, that wasn't supposed to happen\")\n",
        "        print(f\"I guess {term} wasn't in there\")"
      ],
      "execution_count": null,
      "outputs": []
    },
    {
      "cell_type": "markdown",
      "metadata": {
        "id": "BVRICJjWosnH"
      },
      "source": [
        "## Curiosities Features\n",
        "Capitalization Features: \n",
        "- if(all-caps)\n",
        "- if(all-lower)\n",
        "- char-to-cap ratio\n",
        "- title-casing-to-word ratio\n",
        "\n",
        "Symbol Features:\n",
        "- Emoji aren't used but the rare ASCII face like `^_^` will show up, seem ignorable\n",
        "- maybe: count(?), count(!), count(??+), count(!!+)\n",
        "\n",
        "Markdown/URL Features:\n",
        "- if(contain URL)\n",
        "- if(contain linebreak) --> formatting difference, are fakers using linebreaks / multi paragraph?\n",
        "- if(contain other product link) --> `[[ASIN:B00GHS6INM Galaxseed Energy Bar Mix]]` -- ASIN is Amazon Standard ID Number\n",
        "- if(contain video) --> `[[VIDEOID:mo2OZ6CA5YHCIPV]]`"
      ]
    },
    {
      "cell_type": "code",
      "metadata": {
        "id": "U3XRc_77RlIy"
      },
      "source": [
        "def build_case_symbol_features(df):\n",
        "    # Also includes URL and Markdown features because why not\n",
        "    frame = df.copy()\n",
        "    frame['body_no_caps'] = frame['REVIEW_TEXT'].apply(lambda x: x.islower())\n",
        "    frame['body_all_caps'] = frame['REVIEW_TEXT'].apply(lambda x: x.isupper())\n",
        "    frame['body_cap_char%'] = frame['REVIEW_TEXT'].apply(lambda x: len([i for i in x if i.isupper()])/len(x))\n",
        "\n",
        "    #### of all terms except \"I\", what percentage of terms are capital-initiated?\n",
        "    frame['title_case%'] = frame['REVIEW_TEXT'].apply(lambda x: \n",
        "                                    sum([1 for i in x.split() if (i[0].isupper() and (i!=\"I\"))]) / len(x.split()))\n",
        "\n",
        "    #### If body contains URL or <br /> linebreak\n",
        "    frame['url_in_body'] = frame.REVIEW_TEXT.str.contains('http|www\\.|\\.com|\\.edu|\\.gov|\\.net|\\.org', case=False)\n",
        "    frame['linebreak_in_body'] = frame.REVIEW_TEXT.str.contains('<br />')\n",
        "\n",
        "    #### If body contains reference to other product on Amazon\n",
        "    frame['contains_ASIN'] = frame.REVIEW_TEXT.str.contains('\\[\\[asin', case=False)\n",
        "\n",
        "    #### If body contains video content/reference\n",
        "    frame['contains_video'] = frame.REVIEW_TEXT.str.contains('\\[\\[videoid', case=False)\n",
        "\n",
        "    return(frame)"
      ],
      "execution_count": null,
      "outputs": []
    },
    {
      "cell_type": "code",
      "metadata": {
        "colab": {
          "base_uri": "https://localhost:8080/",
          "height": 334
        },
        "id": "pTCKSDYAR9De",
        "outputId": "633d99e0-a634-4aec-f98d-7e6494d21bc9"
      },
      "source": [
        "df = build_case_symbol_features(df=df)\n",
        "df.head(3)"
      ],
      "execution_count": null,
      "outputs": [
        {
          "output_type": "execute_result",
          "data": {
            "text/html": [
              "<div>\n",
              "<style scoped>\n",
              "    .dataframe tbody tr th:only-of-type {\n",
              "        vertical-align: middle;\n",
              "    }\n",
              "\n",
              "    .dataframe tbody tr th {\n",
              "        vertical-align: top;\n",
              "    }\n",
              "\n",
              "    .dataframe thead th {\n",
              "        text-align: right;\n",
              "    }\n",
              "</style>\n",
              "<table border=\"1\" class=\"dataframe\">\n",
              "  <thead>\n",
              "    <tr style=\"text-align: right;\">\n",
              "      <th></th>\n",
              "      <th>DOC_ID</th>\n",
              "      <th>LEGIT</th>\n",
              "      <th>RATING</th>\n",
              "      <th>VERIFIED_PURCHASE</th>\n",
              "      <th>PRODUCT_CATEGORY</th>\n",
              "      <th>PRODUCT_ID</th>\n",
              "      <th>PRODUCT_TITLE</th>\n",
              "      <th>REVIEW_TITLE</th>\n",
              "      <th>REVIEW_TEXT</th>\n",
              "      <th>review_tokens</th>\n",
              "      <th>body_char_len</th>\n",
              "      <th>body_word_len</th>\n",
              "      <th>body_token_len</th>\n",
              "      <th>uniq_body_tokens</th>\n",
              "      <th>body_no_caps</th>\n",
              "      <th>body_all_caps</th>\n",
              "      <th>body_cap_char%</th>\n",
              "      <th>title_case%</th>\n",
              "      <th>url_in_body</th>\n",
              "      <th>linebreak_in_body</th>\n",
              "      <th>contains_ASIN</th>\n",
              "      <th>contains_video</th>\n",
              "    </tr>\n",
              "  </thead>\n",
              "  <tbody>\n",
              "    <tr>\n",
              "      <th>0</th>\n",
              "      <td>1</td>\n",
              "      <td>0</td>\n",
              "      <td>4</td>\n",
              "      <td>0</td>\n",
              "      <td>PC</td>\n",
              "      <td>B00008NG7N</td>\n",
              "      <td>Targus PAUK10U Ultra Mini USB Keypad, Black</td>\n",
              "      <td>useful</td>\n",
              "      <td>When least you think so, this product will sav...</td>\n",
              "      <td>[least, think, product, save, day, keep, aroun...</td>\n",
              "      <td>116</td>\n",
              "      <td>23</td>\n",
              "      <td>10</td>\n",
              "      <td>10</td>\n",
              "      <td>False</td>\n",
              "      <td>False</td>\n",
              "      <td>0.017241</td>\n",
              "      <td>0.086957</td>\n",
              "      <td>False</td>\n",
              "      <td>False</td>\n",
              "      <td>False</td>\n",
              "      <td>False</td>\n",
              "    </tr>\n",
              "    <tr>\n",
              "      <th>1</th>\n",
              "      <td>2</td>\n",
              "      <td>0</td>\n",
              "      <td>4</td>\n",
              "      <td>1</td>\n",
              "      <td>Wireless</td>\n",
              "      <td>B00LH0Y3NM</td>\n",
              "      <td>Note 3 Battery : Stalion Strength Replacement ...</td>\n",
              "      <td>New era for batteries</td>\n",
              "      <td>Lithium batteries are something new introduced...</td>\n",
              "      <td>[lithium, battery, something, new, introduced,...</td>\n",
              "      <td>404</td>\n",
              "      <td>69</td>\n",
              "      <td>40</td>\n",
              "      <td>36</td>\n",
              "      <td>False</td>\n",
              "      <td>False</td>\n",
              "      <td>0.009901</td>\n",
              "      <td>0.043478</td>\n",
              "      <td>False</td>\n",
              "      <td>True</td>\n",
              "      <td>False</td>\n",
              "      <td>False</td>\n",
              "    </tr>\n",
              "    <tr>\n",
              "      <th>2</th>\n",
              "      <td>3</td>\n",
              "      <td>0</td>\n",
              "      <td>3</td>\n",
              "      <td>0</td>\n",
              "      <td>Baby</td>\n",
              "      <td>B000I5UZ1Q</td>\n",
              "      <td>Fisher-Price Papasan Cradle Swing, Starlight</td>\n",
              "      <td>doesn't swing very well.</td>\n",
              "      <td>I purchased this swing for my baby. She is 6 m...</td>\n",
              "      <td>[purchased, swing, baby, 6, month, pretty, muc...</td>\n",
              "      <td>248</td>\n",
              "      <td>52</td>\n",
              "      <td>20</td>\n",
              "      <td>19</td>\n",
              "      <td>False</td>\n",
              "      <td>False</td>\n",
              "      <td>0.024194</td>\n",
              "      <td>0.057692</td>\n",
              "      <td>False</td>\n",
              "      <td>False</td>\n",
              "      <td>False</td>\n",
              "      <td>False</td>\n",
              "    </tr>\n",
              "  </tbody>\n",
              "</table>\n",
              "</div>"
            ],
            "text/plain": [
              "   DOC_ID  LEGIT  RATING  ...  linebreak_in_body contains_ASIN contains_video\n",
              "0       1      0       4  ...              False         False          False\n",
              "1       2      0       4  ...               True         False          False\n",
              "2       3      0       3  ...              False         False          False\n",
              "\n",
              "[3 rows x 22 columns]"
            ]
          },
          "metadata": {
            "tags": []
          },
          "execution_count": 17
        }
      ]
    },
    {
      "cell_type": "code",
      "metadata": {
        "id": "G5PatO3iv4xT"
      },
      "source": [
        "#### No-Caps seems pretty balanced, but All-Caps skews legit somehow.\n",
        "#### Overall, both seem relatively low-frequency, though.\n",
        "if(0):\n",
        "    print(df[df.body_all_caps==True].LEGIT.value_counts())\n",
        "    print()\n",
        "    print(df[df.body_no_caps==True].LEGIT.value_counts())"
      ],
      "execution_count": null,
      "outputs": []
    },
    {
      "cell_type": "code",
      "metadata": {
        "colab": {
          "base_uri": "https://localhost:8080/"
        },
        "id": "fdakxgRQWiCu",
        "outputId": "0261bd73-5237-4cbd-deb1-e690de014654"
      },
      "source": [
        "for each in ['!','!!','!!!','!!!!','!!!!!']:\n",
        "    contains_breakdown(df=df, term=each)"
      ],
      "execution_count": null,
      "outputs": [
        {
          "output_type": "stream",
          "text": [
            "[!] :: 5636 results total\n",
            "    Legit:\t2715 \t----> 48.1725%\n",
            "    Fake:\t2921 \t----> 51.8275%\n",
            "\n",
            "[!!] :: 927 results total\n",
            "    Legit:\t462 \t----> 49.8382%\n",
            "    Fake:\t465 \t----> 50.1618%\n",
            "\n",
            "[!!!] :: 496 results total\n",
            "    Legit:\t264 \t----> 53.2258%\n",
            "    Fake:\t232 \t----> 46.7742%\n",
            "\n",
            "[!!!!] :: 149 results total\n",
            "    Legit:\t82 \t----> 55.0336%\n",
            "    Fake:\t67 \t----> 44.9664%\n",
            "\n",
            "[!!!!!] :: 54 results total\n",
            "    Legit:\t33 \t----> 61.1111%\n",
            "    Fake:\t21 \t----> 38.8889%\n",
            "\n"
          ],
          "name": "stdout"
        }
      ]
    },
    {
      "cell_type": "code",
      "metadata": {
        "colab": {
          "base_uri": "https://localhost:8080/"
        },
        "id": "52YhW0W_UaqT",
        "outputId": "2010fe49-2607-491b-8afa-094e6ec15f82"
      },
      "source": [
        "for each in ['\\?','\\?\\?','\\?\\?\\?']:\n",
        "    contains_breakdown(df=df, term=each)"
      ],
      "execution_count": null,
      "outputs": [
        {
          "output_type": "stream",
          "text": [
            "[\\?] :: 762 results total\n",
            "    Legit:\t433 \t----> 56.8241%\n",
            "    Fake:\t329 \t----> 43.1759%\n",
            "\n",
            "[\\?\\?] :: 50 results total\n",
            "    Legit:\t37 \t----> 74.0%\n",
            "    Fake:\t13 \t----> 26.0%\n",
            "\n",
            "[\\?\\?\\?] :: 32 results total\n",
            "    Legit:\t23 \t----> 71.875%\n",
            "    Fake:\t9 \t----> 28.125%\n",
            "\n"
          ],
          "name": "stdout"
        }
      ]
    },
    {
      "cell_type": "code",
      "metadata": {
        "colab": {
          "base_uri": "https://localhost:8080/"
        },
        "id": "z2v-45utTsGT",
        "outputId": "514c5181-afa4-4243-ae8b-d1afd8ff4b31"
      },
      "source": [
        "contains_breakdown(df=df, term='asin')\n",
        "contains_breakdown(df=df, term='\\[\\[')\n",
        "contains_breakdown(df=df, term='\\[\\[asin')\n",
        "contains_breakdown(df=df, term='\\[\\[videoid')\n",
        "contains_breakdown(df=df, term='\\[\\[asin|\\[\\[videoid')"
      ],
      "execution_count": null,
      "outputs": [
        {
          "output_type": "stream",
          "text": [
            "[ASIN] :: 478 results total\n",
            "    Legit:\t236 \t----> 49.3724%\n",
            "    Fake:\t242 \t----> 50.6276%\n",
            "\n",
            "[\\[\\[] :: 229 results total\n",
            "    Legit:\t113 \t----> 49.345%\n",
            "    Fake:\t116 \t----> 50.655%\n",
            "\n",
            "[\\[\\[ASIN] :: 195 results total\n",
            "    Legit:\t89 \t----> 45.641%\n",
            "    Fake:\t106 \t----> 54.359%\n",
            "\n",
            "[\\[\\[VIDEOID] :: 40 results total\n",
            "    Legit:\t28 \t----> 70.0%\n",
            "    Fake:\t12 \t----> 30.0%\n",
            "\n",
            "[\\[\\[ASIN|\\[\\[VIDEOID] :: 229 results total\n",
            "    Legit:\t113 \t----> 49.345%\n",
            "    Fake:\t116 \t----> 50.655%\n",
            "\n"
          ],
          "name": "stdout"
        }
      ]
    },
    {
      "cell_type": "markdown",
      "metadata": {
        "id": "vrARmVBrk9kU"
      },
      "source": [
        "## Feature Extraction Ideas -- Signal Term Sets\n",
        "<b>Quality Descriptors</b>\n",
        "- count or contains (\"broke, broken, faulty, busted, doesnt-work\")\n",
        "- count or contains (\"cheap//expensive//luxury\")\n",
        "- count or contains (\"fake//counterfeit\")\n",
        "- count or contains (\"authentic\")\n",
        "- count or contains (\"organic\")\n",
        "- count or contains (\"natural\")\n",
        "\n",
        "<b>Other-Being Referentials</b>\n",
        "- count or contains words like (\"son//daughter//kid)\n",
        "- count or contains words like (\"grandfather//grandmother//grandpa//grandma)\n",
        "- count or contains words like (\"aunt//uncle//niece//nephew)\n",
        "- count or contains words like (\"mother//father//mom//dad)\n",
        "- count or contains words like (\"husband//wife//fiance//partner)"
      ]
    },
    {
      "cell_type": "code",
      "metadata": {
        "id": "R31E8mNy-clg"
      },
      "source": [
        "def build_keyword_features(df):\n",
        "    # Also includes URL and Markdown features because why not\n",
        "    frame = df.copy()\n",
        "\n",
        "    if(0):\n",
        "        nuclear_fam = [\"\\\\bdaughter\",\"\\\\bson\\\\b\", \"\\\\bmother\", \"\\\\bfather\", \"\\\\bmom\", \"\\\\bdad\", \"\\\\bson\\\\b\",]\n",
        "        more_fam = [\"niece\", \"nephew\", \"aunt\", \"uncle\", \"grandfather\", \"grandpa\", \"grandmother\", \"grandma\", \"parent\", \"kid\"]\n",
        "        relationships = [\"boyfriend\", \"girlfriend\", \"husband\", \"wife\", \"fiance\", \"partner\"]\n",
        "        ageism = [\"baby\", \"kid\", \"infant\", \"toddler\", \"young\", \"teenager\", \"adult\", \"elderly\"]\n",
        "        work_identity = [\"army\", \"military\", \"soldier\", \"office\", \"business\", \"police\", \"doctor\", \"lawyer\", \"teacher\", \"professor\"] \n",
        "\n",
        "    else:\n",
        "        #### Pruning these back down due to feature importance / lack\n",
        "        nuclear_fam = [\"\\\\bson\\\\b\"]\n",
        "        more_fam = [\"parent\", \"kid\"]\n",
        "        relationships = [\"wife\"]\n",
        "        ageism = [\"baby\", \"kid\"]\n",
        "        work_identity = [\"office\"] \n",
        "\n",
        "    #### some endings left off intentionally\n",
        "    attribs = [\"cheap\", \"affordable\", \"luxur\", \"real\", \"fake\", \"false\", \"natural\", \"organic\", \"smell\",\n",
        "               \"feel\", \"light\", \"heav\", \"poor\", \"rich\", \"authentic\", \"synthetic\", \"good\", \"bad\", \"broke\",\n",
        "               \"faulty\", \"busted\"]\n",
        "\n",
        "    more = [\"\\\\bhe\\\\b\", \"\\\\bhim\\\\b\", \"his\", \"\\\\bshe\\\\b\", \"\\\\bher\\\\b\", \"\\\\bhers\\\\b\", \"\\\\bI\\\\b\", \"\\\\bmy\\\\b\", \"your\", \"yours\",\n",
        "            \"\\\\bwe\\\\b\", \"\\\\bour\\\\b\", \"they\", \"their\"]\n",
        "    other = [\"church\", \"god\", \"faith\", \"\\\\bMAGA\\\\b\", \"patriot\", \"america\", \"china\", \"chinese\"]\n",
        "\n",
        "    megalist = nuclear_fam + more_fam + relationships + ageism + work_identity + attribs + more + other\n",
        "    \n",
        "    for each in megalist:\n",
        "        frame[each] = frame.REVIEW_TEXT.str.contains(each, case=False)\n",
        "\n",
        "    return(frame)\n"
      ],
      "execution_count": null,
      "outputs": []
    },
    {
      "cell_type": "code",
      "metadata": {
        "id": "rWOi4x7nP-I6",
        "colab": {
          "base_uri": "https://localhost:8080/"
        },
        "outputId": "8351359d-743a-409a-fc54-0f57b53183a3"
      },
      "source": [
        "contains_breakdown(df=df, term='son ')\n",
        "contains_breakdown(df=df, term=' son')\n",
        "contains_breakdown(df=df, term=' son ')\n",
        "contains_breakdown(df=df, term='\\\\bson\\\\b')"
      ],
      "execution_count": null,
      "outputs": [
        {
          "output_type": "stream",
          "text": [
            "[SON ] :: 1054 results total\n",
            "    Legit:\t624 \t----> 59.203%\n",
            "    Fake:\t430 \t----> 40.797%\n",
            "\n",
            "[ SON] :: 736 results total\n",
            "    Legit:\t401 \t----> 54.4837%\n",
            "    Fake:\t335 \t----> 45.5163%\n",
            "\n",
            "[ SON ] :: 401 results total\n",
            "    Legit:\t209 \t----> 52.1197%\n",
            "    Fake:\t192 \t----> 47.8803%\n",
            "\n",
            "[\\BSON\\B] :: 528 results total\n",
            "    Legit:\t273 \t----> 51.7045%\n",
            "    Fake:\t255 \t----> 48.2955%\n",
            "\n"
          ],
          "name": "stdout"
        }
      ]
    },
    {
      "cell_type": "code",
      "metadata": {
        "id": "ovzHiJrhkoSk",
        "colab": {
          "base_uri": "https://localhost:8080/"
        },
        "outputId": "24931fcb-1f33-4e5e-c5be-2c67170ea219"
      },
      "source": [
        "contains_breakdown(df=df, term='cheap')\n",
        "contains_breakdown(df=df, term='luxury')\n",
        "contains_breakdown(df=df, term='affordable')\n",
        "contains_breakdown(df=df, term='fake')\n",
        "contains_breakdown(df=df, term='natural')\n",
        "contains_breakdown(df=df, term='organic')"
      ],
      "execution_count": null,
      "outputs": [
        {
          "output_type": "stream",
          "text": [
            "[CHEAP] :: 1022 results total\n",
            "    Legit:\t513 \t----> 50.1957%\n",
            "    Fake:\t509 \t----> 49.8043%\n",
            "\n",
            "[LUXURY] :: 12 results total\n",
            "    Legit:\t4 \t----> 33.3333%\n",
            "    Fake:\t8 \t----> 66.6667%\n",
            "\n",
            "[AFFORDABLE] :: 165 results total\n",
            "    Legit:\t54 \t----> 32.7273%\n",
            "    Fake:\t111 \t----> 67.2727%\n",
            "\n",
            "[FAKE] :: 64 results total\n",
            "    Legit:\t25 \t----> 39.0625%\n",
            "    Fake:\t39 \t----> 60.9375%\n",
            "\n",
            "[NATURAL] :: 220 results total\n",
            "    Legit:\t108 \t----> 49.0909%\n",
            "    Fake:\t112 \t----> 50.9091%\n",
            "\n",
            "[ORGANIC] :: 74 results total\n",
            "    Legit:\t29 \t----> 39.1892%\n",
            "    Fake:\t45 \t----> 60.8108%\n",
            "\n"
          ],
          "name": "stdout"
        }
      ]
    },
    {
      "cell_type": "code",
      "metadata": {
        "id": "0XKp6JoQ-PjA",
        "colab": {
          "base_uri": "https://localhost:8080/"
        },
        "outputId": "424dc6fa-a39d-4f3f-93b5-5cc9bccbefa0"
      },
      "source": [
        "contains_breakdown(df=df, term='partner')\n",
        "contains_breakdown(df=df, term='husband')\n",
        "contains_breakdown(df=df, term='wife')\n",
        "contains_breakdown(df=df, term='fiance')\n",
        "contains_breakdown(df=df, term='girlfriend')\n",
        "contains_breakdown(df=df, term='boyfriend')"
      ],
      "execution_count": null,
      "outputs": [
        {
          "output_type": "stream",
          "text": [
            "[PARTNER] :: 26 results total\n",
            "    Legit:\t11 \t----> 42.3077%\n",
            "    Fake:\t15 \t----> 57.6923%\n",
            "\n",
            "[HUSBAND] :: 443 results total\n",
            "    Legit:\t222 \t----> 50.1129%\n",
            "    Fake:\t221 \t----> 49.8871%\n",
            "\n",
            "[WIFE] :: 355 results total\n",
            "    Legit:\t186 \t----> 52.3944%\n",
            "    Fake:\t169 \t----> 47.6056%\n",
            "\n",
            "[FIANCE] :: 11 results total\n",
            "    Legit:\t4 \t----> 36.3636%\n",
            "    Fake:\t7 \t----> 63.6364%\n",
            "\n",
            "[GIRLFRIEND] :: 89 results total\n",
            "    Legit:\t40 \t----> 44.9438%\n",
            "    Fake:\t49 \t----> 55.0562%\n",
            "\n",
            "[BOYFRIEND] :: 74 results total\n",
            "    Legit:\t36 \t----> 48.6486%\n",
            "    Fake:\t38 \t----> 51.3514%\n",
            "\n"
          ],
          "name": "stdout"
        }
      ]
    },
    {
      "cell_type": "code",
      "metadata": {
        "id": "SmrYVGnn-Xbk"
      },
      "source": [
        "df = build_keyword_features(df=df)"
      ],
      "execution_count": null,
      "outputs": []
    },
    {
      "cell_type": "code",
      "metadata": {
        "colab": {
          "base_uri": "https://localhost:8080/",
          "height": 334
        },
        "id": "ZUfQzDD0CMqI",
        "outputId": "df0a8032-61c2-4a81-9dbd-56030806ef06"
      },
      "source": [
        "df.head(3)"
      ],
      "execution_count": null,
      "outputs": [
        {
          "output_type": "execute_result",
          "data": {
            "text/html": [
              "<div>\n",
              "<style scoped>\n",
              "    .dataframe tbody tr th:only-of-type {\n",
              "        vertical-align: middle;\n",
              "    }\n",
              "\n",
              "    .dataframe tbody tr th {\n",
              "        vertical-align: top;\n",
              "    }\n",
              "\n",
              "    .dataframe thead th {\n",
              "        text-align: right;\n",
              "    }\n",
              "</style>\n",
              "<table border=\"1\" class=\"dataframe\">\n",
              "  <thead>\n",
              "    <tr style=\"text-align: right;\">\n",
              "      <th></th>\n",
              "      <th>DOC_ID</th>\n",
              "      <th>LEGIT</th>\n",
              "      <th>RATING</th>\n",
              "      <th>VERIFIED_PURCHASE</th>\n",
              "      <th>PRODUCT_CATEGORY</th>\n",
              "      <th>PRODUCT_ID</th>\n",
              "      <th>PRODUCT_TITLE</th>\n",
              "      <th>REVIEW_TITLE</th>\n",
              "      <th>REVIEW_TEXT</th>\n",
              "      <th>review_tokens</th>\n",
              "      <th>body_char_len</th>\n",
              "      <th>body_word_len</th>\n",
              "      <th>body_token_len</th>\n",
              "      <th>uniq_body_tokens</th>\n",
              "      <th>body_no_caps</th>\n",
              "      <th>body_all_caps</th>\n",
              "      <th>body_cap_char%</th>\n",
              "      <th>title_case%</th>\n",
              "      <th>url_in_body</th>\n",
              "      <th>linebreak_in_body</th>\n",
              "      <th>contains_ASIN</th>\n",
              "      <th>contains_video</th>\n",
              "      <th>\\bson\\b</th>\n",
              "      <th>parent</th>\n",
              "      <th>kid</th>\n",
              "      <th>wife</th>\n",
              "      <th>baby</th>\n",
              "      <th>office</th>\n",
              "      <th>cheap</th>\n",
              "      <th>affordable</th>\n",
              "      <th>luxur</th>\n",
              "      <th>real</th>\n",
              "      <th>fake</th>\n",
              "      <th>false</th>\n",
              "      <th>natural</th>\n",
              "      <th>organic</th>\n",
              "      <th>smell</th>\n",
              "      <th>feel</th>\n",
              "      <th>light</th>\n",
              "      <th>heav</th>\n",
              "      <th>poor</th>\n",
              "      <th>rich</th>\n",
              "      <th>authentic</th>\n",
              "      <th>synthetic</th>\n",
              "      <th>good</th>\n",
              "      <th>bad</th>\n",
              "      <th>broke</th>\n",
              "      <th>faulty</th>\n",
              "      <th>busted</th>\n",
              "      <th>\\bhe\\b</th>\n",
              "      <th>\\bhim\\b</th>\n",
              "      <th>his</th>\n",
              "      <th>\\bshe\\b</th>\n",
              "      <th>\\bher\\b</th>\n",
              "      <th>\\bhers\\b</th>\n",
              "      <th>\\bI\\b</th>\n",
              "      <th>\\bmy\\b</th>\n",
              "      <th>your</th>\n",
              "      <th>yours</th>\n",
              "      <th>\\bwe\\b</th>\n",
              "      <th>\\bour\\b</th>\n",
              "      <th>they</th>\n",
              "      <th>their</th>\n",
              "      <th>church</th>\n",
              "      <th>god</th>\n",
              "      <th>faith</th>\n",
              "      <th>\\bMAGA\\b</th>\n",
              "      <th>patriot</th>\n",
              "      <th>america</th>\n",
              "      <th>china</th>\n",
              "      <th>chinese</th>\n",
              "    </tr>\n",
              "  </thead>\n",
              "  <tbody>\n",
              "    <tr>\n",
              "      <th>0</th>\n",
              "      <td>1</td>\n",
              "      <td>0</td>\n",
              "      <td>4</td>\n",
              "      <td>0</td>\n",
              "      <td>PC</td>\n",
              "      <td>B00008NG7N</td>\n",
              "      <td>Targus PAUK10U Ultra Mini USB Keypad, Black</td>\n",
              "      <td>useful</td>\n",
              "      <td>When least you think so, this product will sav...</td>\n",
              "      <td>[least, think, product, save, day, keep, aroun...</td>\n",
              "      <td>116</td>\n",
              "      <td>23</td>\n",
              "      <td>10</td>\n",
              "      <td>10</td>\n",
              "      <td>False</td>\n",
              "      <td>False</td>\n",
              "      <td>0.017241</td>\n",
              "      <td>0.086957</td>\n",
              "      <td>False</td>\n",
              "      <td>False</td>\n",
              "      <td>False</td>\n",
              "      <td>False</td>\n",
              "      <td>False</td>\n",
              "      <td>False</td>\n",
              "      <td>False</td>\n",
              "      <td>False</td>\n",
              "      <td>False</td>\n",
              "      <td>False</td>\n",
              "      <td>False</td>\n",
              "      <td>False</td>\n",
              "      <td>False</td>\n",
              "      <td>False</td>\n",
              "      <td>False</td>\n",
              "      <td>False</td>\n",
              "      <td>False</td>\n",
              "      <td>False</td>\n",
              "      <td>False</td>\n",
              "      <td>False</td>\n",
              "      <td>False</td>\n",
              "      <td>False</td>\n",
              "      <td>False</td>\n",
              "      <td>False</td>\n",
              "      <td>False</td>\n",
              "      <td>False</td>\n",
              "      <td>False</td>\n",
              "      <td>False</td>\n",
              "      <td>False</td>\n",
              "      <td>False</td>\n",
              "      <td>False</td>\n",
              "      <td>False</td>\n",
              "      <td>False</td>\n",
              "      <td>True</td>\n",
              "      <td>False</td>\n",
              "      <td>False</td>\n",
              "      <td>False</td>\n",
              "      <td>False</td>\n",
              "      <td>False</td>\n",
              "      <td>False</td>\n",
              "      <td>False</td>\n",
              "      <td>False</td>\n",
              "      <td>False</td>\n",
              "      <td>False</td>\n",
              "      <td>False</td>\n",
              "      <td>False</td>\n",
              "      <td>False</td>\n",
              "      <td>False</td>\n",
              "      <td>False</td>\n",
              "      <td>False</td>\n",
              "      <td>False</td>\n",
              "      <td>False</td>\n",
              "      <td>False</td>\n",
              "    </tr>\n",
              "    <tr>\n",
              "      <th>1</th>\n",
              "      <td>2</td>\n",
              "      <td>0</td>\n",
              "      <td>4</td>\n",
              "      <td>1</td>\n",
              "      <td>Wireless</td>\n",
              "      <td>B00LH0Y3NM</td>\n",
              "      <td>Note 3 Battery : Stalion Strength Replacement ...</td>\n",
              "      <td>New era for batteries</td>\n",
              "      <td>Lithium batteries are something new introduced...</td>\n",
              "      <td>[lithium, battery, something, new, introduced,...</td>\n",
              "      <td>404</td>\n",
              "      <td>69</td>\n",
              "      <td>40</td>\n",
              "      <td>36</td>\n",
              "      <td>False</td>\n",
              "      <td>False</td>\n",
              "      <td>0.009901</td>\n",
              "      <td>0.043478</td>\n",
              "      <td>False</td>\n",
              "      <td>True</td>\n",
              "      <td>False</td>\n",
              "      <td>False</td>\n",
              "      <td>False</td>\n",
              "      <td>False</td>\n",
              "      <td>False</td>\n",
              "      <td>False</td>\n",
              "      <td>False</td>\n",
              "      <td>False</td>\n",
              "      <td>False</td>\n",
              "      <td>False</td>\n",
              "      <td>False</td>\n",
              "      <td>False</td>\n",
              "      <td>False</td>\n",
              "      <td>False</td>\n",
              "      <td>False</td>\n",
              "      <td>False</td>\n",
              "      <td>False</td>\n",
              "      <td>False</td>\n",
              "      <td>False</td>\n",
              "      <td>False</td>\n",
              "      <td>False</td>\n",
              "      <td>False</td>\n",
              "      <td>False</td>\n",
              "      <td>False</td>\n",
              "      <td>False</td>\n",
              "      <td>False</td>\n",
              "      <td>False</td>\n",
              "      <td>False</td>\n",
              "      <td>False</td>\n",
              "      <td>False</td>\n",
              "      <td>False</td>\n",
              "      <td>False</td>\n",
              "      <td>False</td>\n",
              "      <td>False</td>\n",
              "      <td>False</td>\n",
              "      <td>False</td>\n",
              "      <td>True</td>\n",
              "      <td>False</td>\n",
              "      <td>False</td>\n",
              "      <td>False</td>\n",
              "      <td>False</td>\n",
              "      <td>False</td>\n",
              "      <td>True</td>\n",
              "      <td>False</td>\n",
              "      <td>False</td>\n",
              "      <td>False</td>\n",
              "      <td>False</td>\n",
              "      <td>False</td>\n",
              "      <td>False</td>\n",
              "      <td>False</td>\n",
              "      <td>False</td>\n",
              "    </tr>\n",
              "    <tr>\n",
              "      <th>2</th>\n",
              "      <td>3</td>\n",
              "      <td>0</td>\n",
              "      <td>3</td>\n",
              "      <td>0</td>\n",
              "      <td>Baby</td>\n",
              "      <td>B000I5UZ1Q</td>\n",
              "      <td>Fisher-Price Papasan Cradle Swing, Starlight</td>\n",
              "      <td>doesn't swing very well.</td>\n",
              "      <td>I purchased this swing for my baby. She is 6 m...</td>\n",
              "      <td>[purchased, swing, baby, 6, month, pretty, muc...</td>\n",
              "      <td>248</td>\n",
              "      <td>52</td>\n",
              "      <td>20</td>\n",
              "      <td>19</td>\n",
              "      <td>False</td>\n",
              "      <td>False</td>\n",
              "      <td>0.024194</td>\n",
              "      <td>0.057692</td>\n",
              "      <td>False</td>\n",
              "      <td>False</td>\n",
              "      <td>False</td>\n",
              "      <td>False</td>\n",
              "      <td>False</td>\n",
              "      <td>False</td>\n",
              "      <td>False</td>\n",
              "      <td>False</td>\n",
              "      <td>True</td>\n",
              "      <td>False</td>\n",
              "      <td>False</td>\n",
              "      <td>False</td>\n",
              "      <td>False</td>\n",
              "      <td>False</td>\n",
              "      <td>False</td>\n",
              "      <td>False</td>\n",
              "      <td>False</td>\n",
              "      <td>False</td>\n",
              "      <td>False</td>\n",
              "      <td>False</td>\n",
              "      <td>False</td>\n",
              "      <td>False</td>\n",
              "      <td>False</td>\n",
              "      <td>False</td>\n",
              "      <td>False</td>\n",
              "      <td>False</td>\n",
              "      <td>False</td>\n",
              "      <td>False</td>\n",
              "      <td>False</td>\n",
              "      <td>False</td>\n",
              "      <td>False</td>\n",
              "      <td>False</td>\n",
              "      <td>False</td>\n",
              "      <td>True</td>\n",
              "      <td>True</td>\n",
              "      <td>False</td>\n",
              "      <td>False</td>\n",
              "      <td>True</td>\n",
              "      <td>True</td>\n",
              "      <td>False</td>\n",
              "      <td>False</td>\n",
              "      <td>False</td>\n",
              "      <td>False</td>\n",
              "      <td>False</td>\n",
              "      <td>False</td>\n",
              "      <td>False</td>\n",
              "      <td>False</td>\n",
              "      <td>False</td>\n",
              "      <td>False</td>\n",
              "      <td>False</td>\n",
              "      <td>False</td>\n",
              "      <td>False</td>\n",
              "      <td>False</td>\n",
              "    </tr>\n",
              "  </tbody>\n",
              "</table>\n",
              "</div>"
            ],
            "text/plain": [
              "   DOC_ID  LEGIT  RATING  VERIFIED_PURCHASE  ... patriot america  china chinese\n",
              "0       1      0       4                  0  ...   False   False  False   False\n",
              "1       2      0       4                  1  ...   False   False  False   False\n",
              "2       3      0       3                  0  ...   False   False  False   False\n",
              "\n",
              "[3 rows x 71 columns]"
            ]
          },
          "metadata": {
            "tags": []
          },
          "execution_count": 21
        }
      ]
    },
    {
      "cell_type": "code",
      "metadata": {
        "colab": {
          "base_uri": "https://localhost:8080/"
        },
        "id": "W9Myl-nVstE0",
        "outputId": "fc03e13f-72ce-404a-bb68-6cb08d578386"
      },
      "source": [
        "df.shape"
      ],
      "execution_count": null,
      "outputs": [
        {
          "output_type": "execute_result",
          "data": {
            "text/plain": [
              "(21000, 71)"
            ]
          },
          "metadata": {
            "tags": []
          },
          "execution_count": 22
        }
      ]
    },
    {
      "cell_type": "markdown",
      "metadata": {
        "id": "DdImZtAzoofZ"
      },
      "source": [
        "## Other\n",
        "- Shingles // N-Grams\n",
        "- Cosine Similarity // TF-IDF of title/body text\n",
        "- <a href=\"https://planspace.org/20150607-textblob_sentiment/\">\"Polarity and Subjectivity\"</a>\n",
        "- sentiment, LIWC"
      ]
    },
    {
      "cell_type": "code",
      "metadata": {
        "id": "IoU0hQ4dl88M"
      },
      "source": [
        "from textblob import TextBlob\n",
        "df['polarity'] = df.REVIEW_TEXT.apply(lambda x: TextBlob(x).sentiment.polarity)\n",
        "df['subjectivity'] = df.REVIEW_TEXT.apply(lambda x: TextBlob(x).sentiment.subjectivity)"
      ],
      "execution_count": null,
      "outputs": []
    },
    {
      "cell_type": "markdown",
      "metadata": {
        "id": "Nj8KAIKul9Gb"
      },
      "source": [
        "<b>Grammatical & Part of Speech Features</b>\n",
        "- count or contains (\"I\"), count or contains (\"you\"), count/contains pronoun langauge\n",
        "- - though stopwords that get pulled out, wonder if they could be used to signal someone is bullshitting a review by personalizing (\"I\" \"he /him /his\" \"she /her /hers\" likes product) or depersonalizing but trying to put readers in a certain perspective (\"you -- will love the product, would look great in -- your -- kitchen\")\n",
        "- count or contains adverbs (very, extremely, really)\n",
        "<hr>"
      ]
    },
    {
      "cell_type": "code",
      "metadata": {
        "id": "xrB_OKG1L6df"
      },
      "source": [
        "#### Uncommment to see it output a sentence with tags\n",
        "#df.POS_tokens.apply(lambda x: x).iloc[0]\n",
        "#### More building blocks for getting POS count\n",
        "#df.POS_tokens.apply(lambda x: [i[1] for i in x])\n",
        "#df.POS_tokens.apply(lambda x: Counter([i[1] for i in x]))\n",
        "#df.POS_tokens.apply(lambda x: Counter([i[1] for i in x])['WRB'])"
      ],
      "execution_count": null,
      "outputs": []
    },
    {
      "cell_type": "code",
      "metadata": {
        "id": "FF3GBufeTG_A"
      },
      "source": [
        "from collections import Counter\n",
        "\n",
        "df['POS_tokens'] = df.REVIEW_TEXT.apply(lambda x: nltk.pos_tag(RegexpTokenizer('\\w+').tokenize(x)))\n",
        "\n",
        "all_POS_tags = [\"CC\", \"CD\", \"DT\", \"EX\", \"FW\", \"IN\", \"JJ\",  \"JJR\", \"JJS\", \n",
        "                \"LS\", \"MD\", \"NN\", \"NNS\", \"NNP\", \"NNPS\",  \"PDT\", \"POS\", \n",
        "                \"RPR\", \"RPR$\", \"RB\", \"RBR\", \"RBS\", \"RP\", \"TO\", \"UH\", \"VB\",\n",
        "                \"VBD\", \"VBG\", \"VBN\", \"VBP\", \"VBZ\", \"WDT\", \"WP\", \"WP$\", \"WRB\"]\n",
        "\n",
        "for each in all_POS_tags:\n",
        "    df[each] = df.POS_tokens.apply(lambda x: Counter([i[1] for i in x])[each])\n",
        "    #print(f\"{each} concluded\")"
      ],
      "execution_count": null,
      "outputs": []
    },
    {
      "cell_type": "code",
      "metadata": {
        "colab": {
          "base_uri": "https://localhost:8080/",
          "height": 381
        },
        "id": "cOEXkhhCT-zH",
        "outputId": "75e4df15-eba1-4da0-ba6c-25e36ff5c808"
      },
      "source": [
        "df.head(3)"
      ],
      "execution_count": null,
      "outputs": [
        {
          "output_type": "execute_result",
          "data": {
            "text/html": [
              "<div>\n",
              "<style scoped>\n",
              "    .dataframe tbody tr th:only-of-type {\n",
              "        vertical-align: middle;\n",
              "    }\n",
              "\n",
              "    .dataframe tbody tr th {\n",
              "        vertical-align: top;\n",
              "    }\n",
              "\n",
              "    .dataframe thead th {\n",
              "        text-align: right;\n",
              "    }\n",
              "</style>\n",
              "<table border=\"1\" class=\"dataframe\">\n",
              "  <thead>\n",
              "    <tr style=\"text-align: right;\">\n",
              "      <th></th>\n",
              "      <th>DOC_ID</th>\n",
              "      <th>LEGIT</th>\n",
              "      <th>RATING</th>\n",
              "      <th>VERIFIED_PURCHASE</th>\n",
              "      <th>PRODUCT_CATEGORY</th>\n",
              "      <th>PRODUCT_ID</th>\n",
              "      <th>PRODUCT_TITLE</th>\n",
              "      <th>REVIEW_TITLE</th>\n",
              "      <th>REVIEW_TEXT</th>\n",
              "      <th>review_tokens</th>\n",
              "      <th>body_char_len</th>\n",
              "      <th>body_word_len</th>\n",
              "      <th>body_token_len</th>\n",
              "      <th>uniq_body_tokens</th>\n",
              "      <th>body_no_caps</th>\n",
              "      <th>body_all_caps</th>\n",
              "      <th>body_cap_char%</th>\n",
              "      <th>title_case%</th>\n",
              "      <th>url_in_body</th>\n",
              "      <th>linebreak_in_body</th>\n",
              "      <th>contains_ASIN</th>\n",
              "      <th>contains_video</th>\n",
              "      <th>\\bson\\b</th>\n",
              "      <th>parent</th>\n",
              "      <th>kid</th>\n",
              "      <th>wife</th>\n",
              "      <th>baby</th>\n",
              "      <th>office</th>\n",
              "      <th>cheap</th>\n",
              "      <th>affordable</th>\n",
              "      <th>luxur</th>\n",
              "      <th>real</th>\n",
              "      <th>fake</th>\n",
              "      <th>false</th>\n",
              "      <th>natural</th>\n",
              "      <th>organic</th>\n",
              "      <th>smell</th>\n",
              "      <th>feel</th>\n",
              "      <th>light</th>\n",
              "      <th>heav</th>\n",
              "      <th>...</th>\n",
              "      <th>china</th>\n",
              "      <th>chinese</th>\n",
              "      <th>polarity</th>\n",
              "      <th>subjectivity</th>\n",
              "      <th>POS_tokens</th>\n",
              "      <th>CC</th>\n",
              "      <th>CD</th>\n",
              "      <th>DT</th>\n",
              "      <th>EX</th>\n",
              "      <th>FW</th>\n",
              "      <th>IN</th>\n",
              "      <th>JJ</th>\n",
              "      <th>JJR</th>\n",
              "      <th>JJS</th>\n",
              "      <th>LS</th>\n",
              "      <th>MD</th>\n",
              "      <th>NN</th>\n",
              "      <th>NNS</th>\n",
              "      <th>NNP</th>\n",
              "      <th>NNPS</th>\n",
              "      <th>PDT</th>\n",
              "      <th>POS</th>\n",
              "      <th>RPR</th>\n",
              "      <th>RPR$</th>\n",
              "      <th>RB</th>\n",
              "      <th>RBR</th>\n",
              "      <th>RBS</th>\n",
              "      <th>RP</th>\n",
              "      <th>TO</th>\n",
              "      <th>UH</th>\n",
              "      <th>VB</th>\n",
              "      <th>VBD</th>\n",
              "      <th>VBG</th>\n",
              "      <th>VBN</th>\n",
              "      <th>VBP</th>\n",
              "      <th>VBZ</th>\n",
              "      <th>WDT</th>\n",
              "      <th>WP</th>\n",
              "      <th>WP$</th>\n",
              "      <th>WRB</th>\n",
              "    </tr>\n",
              "  </thead>\n",
              "  <tbody>\n",
              "    <tr>\n",
              "      <th>0</th>\n",
              "      <td>1</td>\n",
              "      <td>0</td>\n",
              "      <td>4</td>\n",
              "      <td>0</td>\n",
              "      <td>PC</td>\n",
              "      <td>B00008NG7N</td>\n",
              "      <td>Targus PAUK10U Ultra Mini USB Keypad, Black</td>\n",
              "      <td>useful</td>\n",
              "      <td>When least you think so, this product will sav...</td>\n",
              "      <td>[least, think, product, save, day, keep, aroun...</td>\n",
              "      <td>116</td>\n",
              "      <td>23</td>\n",
              "      <td>10</td>\n",
              "      <td>10</td>\n",
              "      <td>False</td>\n",
              "      <td>False</td>\n",
              "      <td>0.017241</td>\n",
              "      <td>0.086957</td>\n",
              "      <td>False</td>\n",
              "      <td>False</td>\n",
              "      <td>False</td>\n",
              "      <td>False</td>\n",
              "      <td>False</td>\n",
              "      <td>False</td>\n",
              "      <td>False</td>\n",
              "      <td>False</td>\n",
              "      <td>False</td>\n",
              "      <td>False</td>\n",
              "      <td>False</td>\n",
              "      <td>False</td>\n",
              "      <td>False</td>\n",
              "      <td>False</td>\n",
              "      <td>False</td>\n",
              "      <td>False</td>\n",
              "      <td>False</td>\n",
              "      <td>False</td>\n",
              "      <td>False</td>\n",
              "      <td>False</td>\n",
              "      <td>False</td>\n",
              "      <td>False</td>\n",
              "      <td>...</td>\n",
              "      <td>False</td>\n",
              "      <td>False</td>\n",
              "      <td>-0.300000</td>\n",
              "      <td>0.40000</td>\n",
              "      <td>[(When, WRB), (least, JJS), (you, PRP), (think...</td>\n",
              "      <td>0</td>\n",
              "      <td>0</td>\n",
              "      <td>2</td>\n",
              "      <td>0</td>\n",
              "      <td>0</td>\n",
              "      <td>2</td>\n",
              "      <td>0</td>\n",
              "      <td>0</td>\n",
              "      <td>1</td>\n",
              "      <td>0</td>\n",
              "      <td>1</td>\n",
              "      <td>4</td>\n",
              "      <td>0</td>\n",
              "      <td>1</td>\n",
              "      <td>0</td>\n",
              "      <td>0</td>\n",
              "      <td>0</td>\n",
              "      <td>0</td>\n",
              "      <td>0</td>\n",
              "      <td>3</td>\n",
              "      <td>0</td>\n",
              "      <td>0</td>\n",
              "      <td>0</td>\n",
              "      <td>0</td>\n",
              "      <td>0</td>\n",
              "      <td>2</td>\n",
              "      <td>0</td>\n",
              "      <td>0</td>\n",
              "      <td>0</td>\n",
              "      <td>2</td>\n",
              "      <td>0</td>\n",
              "      <td>0</td>\n",
              "      <td>0</td>\n",
              "      <td>0</td>\n",
              "      <td>1</td>\n",
              "    </tr>\n",
              "    <tr>\n",
              "      <th>1</th>\n",
              "      <td>2</td>\n",
              "      <td>0</td>\n",
              "      <td>4</td>\n",
              "      <td>1</td>\n",
              "      <td>Wireless</td>\n",
              "      <td>B00LH0Y3NM</td>\n",
              "      <td>Note 3 Battery : Stalion Strength Replacement ...</td>\n",
              "      <td>New era for batteries</td>\n",
              "      <td>Lithium batteries are something new introduced...</td>\n",
              "      <td>[lithium, battery, something, new, introduced,...</td>\n",
              "      <td>404</td>\n",
              "      <td>69</td>\n",
              "      <td>40</td>\n",
              "      <td>36</td>\n",
              "      <td>False</td>\n",
              "      <td>False</td>\n",
              "      <td>0.009901</td>\n",
              "      <td>0.043478</td>\n",
              "      <td>False</td>\n",
              "      <td>True</td>\n",
              "      <td>False</td>\n",
              "      <td>False</td>\n",
              "      <td>False</td>\n",
              "      <td>False</td>\n",
              "      <td>False</td>\n",
              "      <td>False</td>\n",
              "      <td>False</td>\n",
              "      <td>False</td>\n",
              "      <td>False</td>\n",
              "      <td>False</td>\n",
              "      <td>False</td>\n",
              "      <td>False</td>\n",
              "      <td>False</td>\n",
              "      <td>False</td>\n",
              "      <td>False</td>\n",
              "      <td>False</td>\n",
              "      <td>False</td>\n",
              "      <td>False</td>\n",
              "      <td>False</td>\n",
              "      <td>False</td>\n",
              "      <td>...</td>\n",
              "      <td>False</td>\n",
              "      <td>False</td>\n",
              "      <td>0.219226</td>\n",
              "      <td>0.38532</td>\n",
              "      <td>[(Lithium, NN), (batteries, NNS), (are, VBP), ...</td>\n",
              "      <td>4</td>\n",
              "      <td>0</td>\n",
              "      <td>7</td>\n",
              "      <td>1</td>\n",
              "      <td>0</td>\n",
              "      <td>8</td>\n",
              "      <td>10</td>\n",
              "      <td>0</td>\n",
              "      <td>1</td>\n",
              "      <td>0</td>\n",
              "      <td>0</td>\n",
              "      <td>13</td>\n",
              "      <td>2</td>\n",
              "      <td>1</td>\n",
              "      <td>0</td>\n",
              "      <td>0</td>\n",
              "      <td>0</td>\n",
              "      <td>0</td>\n",
              "      <td>0</td>\n",
              "      <td>5</td>\n",
              "      <td>0</td>\n",
              "      <td>0</td>\n",
              "      <td>0</td>\n",
              "      <td>0</td>\n",
              "      <td>0</td>\n",
              "      <td>2</td>\n",
              "      <td>0</td>\n",
              "      <td>1</td>\n",
              "      <td>3</td>\n",
              "      <td>4</td>\n",
              "      <td>4</td>\n",
              "      <td>1</td>\n",
              "      <td>0</td>\n",
              "      <td>0</td>\n",
              "      <td>0</td>\n",
              "    </tr>\n",
              "    <tr>\n",
              "      <th>2</th>\n",
              "      <td>3</td>\n",
              "      <td>0</td>\n",
              "      <td>3</td>\n",
              "      <td>0</td>\n",
              "      <td>Baby</td>\n",
              "      <td>B000I5UZ1Q</td>\n",
              "      <td>Fisher-Price Papasan Cradle Swing, Starlight</td>\n",
              "      <td>doesn't swing very well.</td>\n",
              "      <td>I purchased this swing for my baby. She is 6 m...</td>\n",
              "      <td>[purchased, swing, baby, 6, month, pretty, muc...</td>\n",
              "      <td>248</td>\n",
              "      <td>52</td>\n",
              "      <td>20</td>\n",
              "      <td>19</td>\n",
              "      <td>False</td>\n",
              "      <td>False</td>\n",
              "      <td>0.024194</td>\n",
              "      <td>0.057692</td>\n",
              "      <td>False</td>\n",
              "      <td>False</td>\n",
              "      <td>False</td>\n",
              "      <td>False</td>\n",
              "      <td>False</td>\n",
              "      <td>False</td>\n",
              "      <td>False</td>\n",
              "      <td>False</td>\n",
              "      <td>True</td>\n",
              "      <td>False</td>\n",
              "      <td>False</td>\n",
              "      <td>False</td>\n",
              "      <td>False</td>\n",
              "      <td>False</td>\n",
              "      <td>False</td>\n",
              "      <td>False</td>\n",
              "      <td>False</td>\n",
              "      <td>False</td>\n",
              "      <td>False</td>\n",
              "      <td>False</td>\n",
              "      <td>False</td>\n",
              "      <td>False</td>\n",
              "      <td>...</td>\n",
              "      <td>False</td>\n",
              "      <td>False</td>\n",
              "      <td>0.347143</td>\n",
              "      <td>0.60000</td>\n",
              "      <td>[(I, PRP), (purchased, VBD), (this, DT), (swin...</td>\n",
              "      <td>4</td>\n",
              "      <td>1</td>\n",
              "      <td>4</td>\n",
              "      <td>0</td>\n",
              "      <td>0</td>\n",
              "      <td>5</td>\n",
              "      <td>6</td>\n",
              "      <td>0</td>\n",
              "      <td>0</td>\n",
              "      <td>0</td>\n",
              "      <td>0</td>\n",
              "      <td>5</td>\n",
              "      <td>3</td>\n",
              "      <td>0</td>\n",
              "      <td>0</td>\n",
              "      <td>0</td>\n",
              "      <td>0</td>\n",
              "      <td>0</td>\n",
              "      <td>0</td>\n",
              "      <td>5</td>\n",
              "      <td>0</td>\n",
              "      <td>0</td>\n",
              "      <td>0</td>\n",
              "      <td>0</td>\n",
              "      <td>0</td>\n",
              "      <td>0</td>\n",
              "      <td>2</td>\n",
              "      <td>1</td>\n",
              "      <td>0</td>\n",
              "      <td>3</td>\n",
              "      <td>5</td>\n",
              "      <td>0</td>\n",
              "      <td>0</td>\n",
              "      <td>0</td>\n",
              "      <td>0</td>\n",
              "    </tr>\n",
              "  </tbody>\n",
              "</table>\n",
              "<p>3 rows × 109 columns</p>\n",
              "</div>"
            ],
            "text/plain": [
              "   DOC_ID  LEGIT  RATING  VERIFIED_PURCHASE  ... WDT WP WP$ WRB\n",
              "0       1      0       4                  0  ...   0  0   0   1\n",
              "1       2      0       4                  1  ...   1  0   0   0\n",
              "2       3      0       3                  0  ...   0  0   0   0\n",
              "\n",
              "[3 rows x 109 columns]"
            ]
          },
          "metadata": {
            "tags": []
          },
          "execution_count": 25
        }
      ]
    },
    {
      "cell_type": "markdown",
      "metadata": {
        "id": "kKcdZfK3mKIR"
      },
      "source": [
        "# ML Readiness\n",
        "- Drop unwanted / unusable features like specific identifiers and raw strings\n",
        "- Onehot encode product-category\n",
        "- Separate X and Y\n",
        "- Train-Test-Split"
      ]
    },
    {
      "cell_type": "code",
      "metadata": {
        "colab": {
          "base_uri": "https://localhost:8080/",
          "height": 225
        },
        "id": "Ivqv-_EDmNA3",
        "outputId": "183cabcf-8e43-4021-8ad6-62f089992fac"
      },
      "source": [
        "droppers = ['DOC_ID', 'PRODUCT_ID', 'PRODUCT_TITLE', 'REVIEW_TITLE', 'REVIEW_TEXT', 'review_tokens', 'POS_tokens']\n",
        "ML_Ready = pd.get_dummies(df.drop(columns=droppers), prefix='categ')\n",
        "ML_Ready.head(3)"
      ],
      "execution_count": null,
      "outputs": [
        {
          "output_type": "execute_result",
          "data": {
            "text/html": [
              "<div>\n",
              "<style scoped>\n",
              "    .dataframe tbody tr th:only-of-type {\n",
              "        vertical-align: middle;\n",
              "    }\n",
              "\n",
              "    .dataframe tbody tr th {\n",
              "        vertical-align: top;\n",
              "    }\n",
              "\n",
              "    .dataframe thead th {\n",
              "        text-align: right;\n",
              "    }\n",
              "</style>\n",
              "<table border=\"1\" class=\"dataframe\">\n",
              "  <thead>\n",
              "    <tr style=\"text-align: right;\">\n",
              "      <th></th>\n",
              "      <th>LEGIT</th>\n",
              "      <th>RATING</th>\n",
              "      <th>VERIFIED_PURCHASE</th>\n",
              "      <th>body_char_len</th>\n",
              "      <th>body_word_len</th>\n",
              "      <th>body_token_len</th>\n",
              "      <th>uniq_body_tokens</th>\n",
              "      <th>body_no_caps</th>\n",
              "      <th>body_all_caps</th>\n",
              "      <th>body_cap_char%</th>\n",
              "      <th>title_case%</th>\n",
              "      <th>url_in_body</th>\n",
              "      <th>linebreak_in_body</th>\n",
              "      <th>contains_ASIN</th>\n",
              "      <th>contains_video</th>\n",
              "      <th>\\bson\\b</th>\n",
              "      <th>parent</th>\n",
              "      <th>kid</th>\n",
              "      <th>wife</th>\n",
              "      <th>baby</th>\n",
              "      <th>office</th>\n",
              "      <th>cheap</th>\n",
              "      <th>affordable</th>\n",
              "      <th>luxur</th>\n",
              "      <th>real</th>\n",
              "      <th>fake</th>\n",
              "      <th>false</th>\n",
              "      <th>natural</th>\n",
              "      <th>organic</th>\n",
              "      <th>smell</th>\n",
              "      <th>feel</th>\n",
              "      <th>light</th>\n",
              "      <th>heav</th>\n",
              "      <th>poor</th>\n",
              "      <th>rich</th>\n",
              "      <th>authentic</th>\n",
              "      <th>synthetic</th>\n",
              "      <th>good</th>\n",
              "      <th>bad</th>\n",
              "      <th>broke</th>\n",
              "      <th>...</th>\n",
              "      <th>VB</th>\n",
              "      <th>VBD</th>\n",
              "      <th>VBG</th>\n",
              "      <th>VBN</th>\n",
              "      <th>VBP</th>\n",
              "      <th>VBZ</th>\n",
              "      <th>WDT</th>\n",
              "      <th>WP</th>\n",
              "      <th>WP$</th>\n",
              "      <th>WRB</th>\n",
              "      <th>categ_Apparel</th>\n",
              "      <th>categ_Automotive</th>\n",
              "      <th>categ_Baby</th>\n",
              "      <th>categ_Beauty</th>\n",
              "      <th>categ_Books</th>\n",
              "      <th>categ_Camera</th>\n",
              "      <th>categ_Electronics</th>\n",
              "      <th>categ_Furniture</th>\n",
              "      <th>categ_Grocery</th>\n",
              "      <th>categ_Health &amp; Personal Care</th>\n",
              "      <th>categ_Home</th>\n",
              "      <th>categ_Home Entertainment</th>\n",
              "      <th>categ_Home Improvement</th>\n",
              "      <th>categ_Jewelry</th>\n",
              "      <th>categ_Kitchen</th>\n",
              "      <th>categ_Lawn and Garden</th>\n",
              "      <th>categ_Luggage</th>\n",
              "      <th>categ_Musical Instruments</th>\n",
              "      <th>categ_Office Products</th>\n",
              "      <th>categ_Outdoors</th>\n",
              "      <th>categ_PC</th>\n",
              "      <th>categ_Pet Products</th>\n",
              "      <th>categ_Shoes</th>\n",
              "      <th>categ_Sports</th>\n",
              "      <th>categ_Tools</th>\n",
              "      <th>categ_Toys</th>\n",
              "      <th>categ_Video DVD</th>\n",
              "      <th>categ_Video Games</th>\n",
              "      <th>categ_Watches</th>\n",
              "      <th>categ_Wireless</th>\n",
              "    </tr>\n",
              "  </thead>\n",
              "  <tbody>\n",
              "    <tr>\n",
              "      <th>0</th>\n",
              "      <td>0</td>\n",
              "      <td>4</td>\n",
              "      <td>0</td>\n",
              "      <td>116</td>\n",
              "      <td>23</td>\n",
              "      <td>10</td>\n",
              "      <td>10</td>\n",
              "      <td>False</td>\n",
              "      <td>False</td>\n",
              "      <td>0.017241</td>\n",
              "      <td>0.086957</td>\n",
              "      <td>False</td>\n",
              "      <td>False</td>\n",
              "      <td>False</td>\n",
              "      <td>False</td>\n",
              "      <td>False</td>\n",
              "      <td>False</td>\n",
              "      <td>False</td>\n",
              "      <td>False</td>\n",
              "      <td>False</td>\n",
              "      <td>False</td>\n",
              "      <td>False</td>\n",
              "      <td>False</td>\n",
              "      <td>False</td>\n",
              "      <td>False</td>\n",
              "      <td>False</td>\n",
              "      <td>False</td>\n",
              "      <td>False</td>\n",
              "      <td>False</td>\n",
              "      <td>False</td>\n",
              "      <td>False</td>\n",
              "      <td>False</td>\n",
              "      <td>False</td>\n",
              "      <td>False</td>\n",
              "      <td>False</td>\n",
              "      <td>False</td>\n",
              "      <td>False</td>\n",
              "      <td>False</td>\n",
              "      <td>False</td>\n",
              "      <td>False</td>\n",
              "      <td>...</td>\n",
              "      <td>2</td>\n",
              "      <td>0</td>\n",
              "      <td>0</td>\n",
              "      <td>0</td>\n",
              "      <td>2</td>\n",
              "      <td>0</td>\n",
              "      <td>0</td>\n",
              "      <td>0</td>\n",
              "      <td>0</td>\n",
              "      <td>1</td>\n",
              "      <td>0</td>\n",
              "      <td>0</td>\n",
              "      <td>0</td>\n",
              "      <td>0</td>\n",
              "      <td>0</td>\n",
              "      <td>0</td>\n",
              "      <td>0</td>\n",
              "      <td>0</td>\n",
              "      <td>0</td>\n",
              "      <td>0</td>\n",
              "      <td>0</td>\n",
              "      <td>0</td>\n",
              "      <td>0</td>\n",
              "      <td>0</td>\n",
              "      <td>0</td>\n",
              "      <td>0</td>\n",
              "      <td>0</td>\n",
              "      <td>0</td>\n",
              "      <td>0</td>\n",
              "      <td>0</td>\n",
              "      <td>1</td>\n",
              "      <td>0</td>\n",
              "      <td>0</td>\n",
              "      <td>0</td>\n",
              "      <td>0</td>\n",
              "      <td>0</td>\n",
              "      <td>0</td>\n",
              "      <td>0</td>\n",
              "      <td>0</td>\n",
              "      <td>0</td>\n",
              "    </tr>\n",
              "    <tr>\n",
              "      <th>1</th>\n",
              "      <td>0</td>\n",
              "      <td>4</td>\n",
              "      <td>1</td>\n",
              "      <td>404</td>\n",
              "      <td>69</td>\n",
              "      <td>40</td>\n",
              "      <td>36</td>\n",
              "      <td>False</td>\n",
              "      <td>False</td>\n",
              "      <td>0.009901</td>\n",
              "      <td>0.043478</td>\n",
              "      <td>False</td>\n",
              "      <td>True</td>\n",
              "      <td>False</td>\n",
              "      <td>False</td>\n",
              "      <td>False</td>\n",
              "      <td>False</td>\n",
              "      <td>False</td>\n",
              "      <td>False</td>\n",
              "      <td>False</td>\n",
              "      <td>False</td>\n",
              "      <td>False</td>\n",
              "      <td>False</td>\n",
              "      <td>False</td>\n",
              "      <td>False</td>\n",
              "      <td>False</td>\n",
              "      <td>False</td>\n",
              "      <td>False</td>\n",
              "      <td>False</td>\n",
              "      <td>False</td>\n",
              "      <td>False</td>\n",
              "      <td>False</td>\n",
              "      <td>False</td>\n",
              "      <td>False</td>\n",
              "      <td>False</td>\n",
              "      <td>False</td>\n",
              "      <td>False</td>\n",
              "      <td>False</td>\n",
              "      <td>False</td>\n",
              "      <td>False</td>\n",
              "      <td>...</td>\n",
              "      <td>2</td>\n",
              "      <td>0</td>\n",
              "      <td>1</td>\n",
              "      <td>3</td>\n",
              "      <td>4</td>\n",
              "      <td>4</td>\n",
              "      <td>1</td>\n",
              "      <td>0</td>\n",
              "      <td>0</td>\n",
              "      <td>0</td>\n",
              "      <td>0</td>\n",
              "      <td>0</td>\n",
              "      <td>0</td>\n",
              "      <td>0</td>\n",
              "      <td>0</td>\n",
              "      <td>0</td>\n",
              "      <td>0</td>\n",
              "      <td>0</td>\n",
              "      <td>0</td>\n",
              "      <td>0</td>\n",
              "      <td>0</td>\n",
              "      <td>0</td>\n",
              "      <td>0</td>\n",
              "      <td>0</td>\n",
              "      <td>0</td>\n",
              "      <td>0</td>\n",
              "      <td>0</td>\n",
              "      <td>0</td>\n",
              "      <td>0</td>\n",
              "      <td>0</td>\n",
              "      <td>0</td>\n",
              "      <td>0</td>\n",
              "      <td>0</td>\n",
              "      <td>0</td>\n",
              "      <td>0</td>\n",
              "      <td>0</td>\n",
              "      <td>0</td>\n",
              "      <td>0</td>\n",
              "      <td>0</td>\n",
              "      <td>1</td>\n",
              "    </tr>\n",
              "    <tr>\n",
              "      <th>2</th>\n",
              "      <td>0</td>\n",
              "      <td>3</td>\n",
              "      <td>0</td>\n",
              "      <td>248</td>\n",
              "      <td>52</td>\n",
              "      <td>20</td>\n",
              "      <td>19</td>\n",
              "      <td>False</td>\n",
              "      <td>False</td>\n",
              "      <td>0.024194</td>\n",
              "      <td>0.057692</td>\n",
              "      <td>False</td>\n",
              "      <td>False</td>\n",
              "      <td>False</td>\n",
              "      <td>False</td>\n",
              "      <td>False</td>\n",
              "      <td>False</td>\n",
              "      <td>False</td>\n",
              "      <td>False</td>\n",
              "      <td>True</td>\n",
              "      <td>False</td>\n",
              "      <td>False</td>\n",
              "      <td>False</td>\n",
              "      <td>False</td>\n",
              "      <td>False</td>\n",
              "      <td>False</td>\n",
              "      <td>False</td>\n",
              "      <td>False</td>\n",
              "      <td>False</td>\n",
              "      <td>False</td>\n",
              "      <td>False</td>\n",
              "      <td>False</td>\n",
              "      <td>False</td>\n",
              "      <td>False</td>\n",
              "      <td>False</td>\n",
              "      <td>False</td>\n",
              "      <td>False</td>\n",
              "      <td>False</td>\n",
              "      <td>False</td>\n",
              "      <td>False</td>\n",
              "      <td>...</td>\n",
              "      <td>0</td>\n",
              "      <td>2</td>\n",
              "      <td>1</td>\n",
              "      <td>0</td>\n",
              "      <td>3</td>\n",
              "      <td>5</td>\n",
              "      <td>0</td>\n",
              "      <td>0</td>\n",
              "      <td>0</td>\n",
              "      <td>0</td>\n",
              "      <td>0</td>\n",
              "      <td>0</td>\n",
              "      <td>1</td>\n",
              "      <td>0</td>\n",
              "      <td>0</td>\n",
              "      <td>0</td>\n",
              "      <td>0</td>\n",
              "      <td>0</td>\n",
              "      <td>0</td>\n",
              "      <td>0</td>\n",
              "      <td>0</td>\n",
              "      <td>0</td>\n",
              "      <td>0</td>\n",
              "      <td>0</td>\n",
              "      <td>0</td>\n",
              "      <td>0</td>\n",
              "      <td>0</td>\n",
              "      <td>0</td>\n",
              "      <td>0</td>\n",
              "      <td>0</td>\n",
              "      <td>0</td>\n",
              "      <td>0</td>\n",
              "      <td>0</td>\n",
              "      <td>0</td>\n",
              "      <td>0</td>\n",
              "      <td>0</td>\n",
              "      <td>0</td>\n",
              "      <td>0</td>\n",
              "      <td>0</td>\n",
              "      <td>0</td>\n",
              "    </tr>\n",
              "  </tbody>\n",
              "</table>\n",
              "<p>3 rows × 131 columns</p>\n",
              "</div>"
            ],
            "text/plain": [
              "   LEGIT  RATING  ...  categ_Watches  categ_Wireless\n",
              "0      0       4  ...              0               0\n",
              "1      0       4  ...              0               1\n",
              "2      0       3  ...              0               0\n",
              "\n",
              "[3 rows x 131 columns]"
            ]
          },
          "metadata": {
            "tags": []
          },
          "execution_count": 26
        }
      ]
    },
    {
      "cell_type": "code",
      "metadata": {
        "id": "XJcDGsnTmOtN"
      },
      "source": [
        "X = ML_Ready.drop(columns=['LEGIT'])\n",
        "y = ML_Ready.LEGIT\n",
        "\n",
        "from sklearn.model_selection import train_test_split\n",
        "X_train, X_test, y_train, y_test = train_test_split(X, y, test_size=.20, stratify=y)"
      ],
      "execution_count": null,
      "outputs": []
    },
    {
      "cell_type": "code",
      "metadata": {
        "colab": {
          "base_uri": "https://localhost:8080/",
          "height": 363
        },
        "id": "do1RJ-CaEQeH",
        "outputId": "d8d2afcf-e078-4b67-f517-c5e6f5bf68e8"
      },
      "source": [
        "print(X_train.shape, X_train.columns)\n",
        "X_train.head(3)"
      ],
      "execution_count": null,
      "outputs": [
        {
          "output_type": "stream",
          "text": [
            "(16800, 130) Index(['RATING', 'VERIFIED_PURCHASE', 'body_char_len', 'body_word_len',\n",
            "       'body_token_len', 'uniq_body_tokens', 'body_no_caps', 'body_all_caps',\n",
            "       'body_cap_char%', 'title_case%',\n",
            "       ...\n",
            "       'categ_PC', 'categ_Pet Products', 'categ_Shoes', 'categ_Sports',\n",
            "       'categ_Tools', 'categ_Toys', 'categ_Video DVD', 'categ_Video Games',\n",
            "       'categ_Watches', 'categ_Wireless'],\n",
            "      dtype='object', length=130)\n"
          ],
          "name": "stdout"
        },
        {
          "output_type": "execute_result",
          "data": {
            "text/html": [
              "<div>\n",
              "<style scoped>\n",
              "    .dataframe tbody tr th:only-of-type {\n",
              "        vertical-align: middle;\n",
              "    }\n",
              "\n",
              "    .dataframe tbody tr th {\n",
              "        vertical-align: top;\n",
              "    }\n",
              "\n",
              "    .dataframe thead th {\n",
              "        text-align: right;\n",
              "    }\n",
              "</style>\n",
              "<table border=\"1\" class=\"dataframe\">\n",
              "  <thead>\n",
              "    <tr style=\"text-align: right;\">\n",
              "      <th></th>\n",
              "      <th>RATING</th>\n",
              "      <th>VERIFIED_PURCHASE</th>\n",
              "      <th>body_char_len</th>\n",
              "      <th>body_word_len</th>\n",
              "      <th>body_token_len</th>\n",
              "      <th>uniq_body_tokens</th>\n",
              "      <th>body_no_caps</th>\n",
              "      <th>body_all_caps</th>\n",
              "      <th>body_cap_char%</th>\n",
              "      <th>title_case%</th>\n",
              "      <th>url_in_body</th>\n",
              "      <th>linebreak_in_body</th>\n",
              "      <th>contains_ASIN</th>\n",
              "      <th>contains_video</th>\n",
              "      <th>\\bson\\b</th>\n",
              "      <th>parent</th>\n",
              "      <th>kid</th>\n",
              "      <th>wife</th>\n",
              "      <th>baby</th>\n",
              "      <th>office</th>\n",
              "      <th>cheap</th>\n",
              "      <th>affordable</th>\n",
              "      <th>luxur</th>\n",
              "      <th>real</th>\n",
              "      <th>fake</th>\n",
              "      <th>false</th>\n",
              "      <th>natural</th>\n",
              "      <th>organic</th>\n",
              "      <th>smell</th>\n",
              "      <th>feel</th>\n",
              "      <th>light</th>\n",
              "      <th>heav</th>\n",
              "      <th>poor</th>\n",
              "      <th>rich</th>\n",
              "      <th>authentic</th>\n",
              "      <th>synthetic</th>\n",
              "      <th>good</th>\n",
              "      <th>bad</th>\n",
              "      <th>broke</th>\n",
              "      <th>faulty</th>\n",
              "      <th>...</th>\n",
              "      <th>VB</th>\n",
              "      <th>VBD</th>\n",
              "      <th>VBG</th>\n",
              "      <th>VBN</th>\n",
              "      <th>VBP</th>\n",
              "      <th>VBZ</th>\n",
              "      <th>WDT</th>\n",
              "      <th>WP</th>\n",
              "      <th>WP$</th>\n",
              "      <th>WRB</th>\n",
              "      <th>categ_Apparel</th>\n",
              "      <th>categ_Automotive</th>\n",
              "      <th>categ_Baby</th>\n",
              "      <th>categ_Beauty</th>\n",
              "      <th>categ_Books</th>\n",
              "      <th>categ_Camera</th>\n",
              "      <th>categ_Electronics</th>\n",
              "      <th>categ_Furniture</th>\n",
              "      <th>categ_Grocery</th>\n",
              "      <th>categ_Health &amp; Personal Care</th>\n",
              "      <th>categ_Home</th>\n",
              "      <th>categ_Home Entertainment</th>\n",
              "      <th>categ_Home Improvement</th>\n",
              "      <th>categ_Jewelry</th>\n",
              "      <th>categ_Kitchen</th>\n",
              "      <th>categ_Lawn and Garden</th>\n",
              "      <th>categ_Luggage</th>\n",
              "      <th>categ_Musical Instruments</th>\n",
              "      <th>categ_Office Products</th>\n",
              "      <th>categ_Outdoors</th>\n",
              "      <th>categ_PC</th>\n",
              "      <th>categ_Pet Products</th>\n",
              "      <th>categ_Shoes</th>\n",
              "      <th>categ_Sports</th>\n",
              "      <th>categ_Tools</th>\n",
              "      <th>categ_Toys</th>\n",
              "      <th>categ_Video DVD</th>\n",
              "      <th>categ_Video Games</th>\n",
              "      <th>categ_Watches</th>\n",
              "      <th>categ_Wireless</th>\n",
              "    </tr>\n",
              "  </thead>\n",
              "  <tbody>\n",
              "    <tr>\n",
              "      <th>19641</th>\n",
              "      <td>5</td>\n",
              "      <td>1</td>\n",
              "      <td>117</td>\n",
              "      <td>22</td>\n",
              "      <td>11</td>\n",
              "      <td>11</td>\n",
              "      <td>True</td>\n",
              "      <td>False</td>\n",
              "      <td>0.000000</td>\n",
              "      <td>0.000000</td>\n",
              "      <td>False</td>\n",
              "      <td>False</td>\n",
              "      <td>False</td>\n",
              "      <td>False</td>\n",
              "      <td>False</td>\n",
              "      <td>False</td>\n",
              "      <td>False</td>\n",
              "      <td>False</td>\n",
              "      <td>False</td>\n",
              "      <td>False</td>\n",
              "      <td>False</td>\n",
              "      <td>False</td>\n",
              "      <td>False</td>\n",
              "      <td>False</td>\n",
              "      <td>False</td>\n",
              "      <td>False</td>\n",
              "      <td>False</td>\n",
              "      <td>False</td>\n",
              "      <td>False</td>\n",
              "      <td>False</td>\n",
              "      <td>False</td>\n",
              "      <td>False</td>\n",
              "      <td>False</td>\n",
              "      <td>False</td>\n",
              "      <td>False</td>\n",
              "      <td>False</td>\n",
              "      <td>False</td>\n",
              "      <td>False</td>\n",
              "      <td>False</td>\n",
              "      <td>False</td>\n",
              "      <td>...</td>\n",
              "      <td>2</td>\n",
              "      <td>1</td>\n",
              "      <td>0</td>\n",
              "      <td>1</td>\n",
              "      <td>0</td>\n",
              "      <td>1</td>\n",
              "      <td>0</td>\n",
              "      <td>0</td>\n",
              "      <td>0</td>\n",
              "      <td>0</td>\n",
              "      <td>0</td>\n",
              "      <td>0</td>\n",
              "      <td>0</td>\n",
              "      <td>0</td>\n",
              "      <td>0</td>\n",
              "      <td>0</td>\n",
              "      <td>0</td>\n",
              "      <td>0</td>\n",
              "      <td>0</td>\n",
              "      <td>0</td>\n",
              "      <td>0</td>\n",
              "      <td>0</td>\n",
              "      <td>0</td>\n",
              "      <td>0</td>\n",
              "      <td>0</td>\n",
              "      <td>0</td>\n",
              "      <td>0</td>\n",
              "      <td>0</td>\n",
              "      <td>0</td>\n",
              "      <td>0</td>\n",
              "      <td>1</td>\n",
              "      <td>0</td>\n",
              "      <td>0</td>\n",
              "      <td>0</td>\n",
              "      <td>0</td>\n",
              "      <td>0</td>\n",
              "      <td>0</td>\n",
              "      <td>0</td>\n",
              "      <td>0</td>\n",
              "      <td>0</td>\n",
              "    </tr>\n",
              "    <tr>\n",
              "      <th>42</th>\n",
              "      <td>4</td>\n",
              "      <td>1</td>\n",
              "      <td>193</td>\n",
              "      <td>37</td>\n",
              "      <td>16</td>\n",
              "      <td>16</td>\n",
              "      <td>False</td>\n",
              "      <td>False</td>\n",
              "      <td>0.015544</td>\n",
              "      <td>0.081081</td>\n",
              "      <td>False</td>\n",
              "      <td>False</td>\n",
              "      <td>False</td>\n",
              "      <td>False</td>\n",
              "      <td>False</td>\n",
              "      <td>False</td>\n",
              "      <td>False</td>\n",
              "      <td>True</td>\n",
              "      <td>False</td>\n",
              "      <td>False</td>\n",
              "      <td>True</td>\n",
              "      <td>False</td>\n",
              "      <td>False</td>\n",
              "      <td>False</td>\n",
              "      <td>False</td>\n",
              "      <td>False</td>\n",
              "      <td>False</td>\n",
              "      <td>False</td>\n",
              "      <td>False</td>\n",
              "      <td>False</td>\n",
              "      <td>True</td>\n",
              "      <td>False</td>\n",
              "      <td>False</td>\n",
              "      <td>False</td>\n",
              "      <td>False</td>\n",
              "      <td>False</td>\n",
              "      <td>False</td>\n",
              "      <td>False</td>\n",
              "      <td>False</td>\n",
              "      <td>False</td>\n",
              "      <td>...</td>\n",
              "      <td>1</td>\n",
              "      <td>0</td>\n",
              "      <td>0</td>\n",
              "      <td>2</td>\n",
              "      <td>3</td>\n",
              "      <td>1</td>\n",
              "      <td>0</td>\n",
              "      <td>1</td>\n",
              "      <td>0</td>\n",
              "      <td>0</td>\n",
              "      <td>0</td>\n",
              "      <td>0</td>\n",
              "      <td>0</td>\n",
              "      <td>0</td>\n",
              "      <td>0</td>\n",
              "      <td>0</td>\n",
              "      <td>0</td>\n",
              "      <td>0</td>\n",
              "      <td>0</td>\n",
              "      <td>0</td>\n",
              "      <td>0</td>\n",
              "      <td>0</td>\n",
              "      <td>0</td>\n",
              "      <td>0</td>\n",
              "      <td>0</td>\n",
              "      <td>0</td>\n",
              "      <td>0</td>\n",
              "      <td>0</td>\n",
              "      <td>0</td>\n",
              "      <td>0</td>\n",
              "      <td>1</td>\n",
              "      <td>0</td>\n",
              "      <td>0</td>\n",
              "      <td>0</td>\n",
              "      <td>0</td>\n",
              "      <td>0</td>\n",
              "      <td>0</td>\n",
              "      <td>0</td>\n",
              "      <td>0</td>\n",
              "      <td>0</td>\n",
              "    </tr>\n",
              "    <tr>\n",
              "      <th>19849</th>\n",
              "      <td>5</td>\n",
              "      <td>1</td>\n",
              "      <td>138</td>\n",
              "      <td>24</td>\n",
              "      <td>12</td>\n",
              "      <td>11</td>\n",
              "      <td>False</td>\n",
              "      <td>False</td>\n",
              "      <td>0.050725</td>\n",
              "      <td>0.250000</td>\n",
              "      <td>False</td>\n",
              "      <td>False</td>\n",
              "      <td>False</td>\n",
              "      <td>False</td>\n",
              "      <td>False</td>\n",
              "      <td>False</td>\n",
              "      <td>False</td>\n",
              "      <td>False</td>\n",
              "      <td>False</td>\n",
              "      <td>False</td>\n",
              "      <td>False</td>\n",
              "      <td>False</td>\n",
              "      <td>False</td>\n",
              "      <td>False</td>\n",
              "      <td>False</td>\n",
              "      <td>False</td>\n",
              "      <td>False</td>\n",
              "      <td>False</td>\n",
              "      <td>False</td>\n",
              "      <td>False</td>\n",
              "      <td>False</td>\n",
              "      <td>False</td>\n",
              "      <td>False</td>\n",
              "      <td>False</td>\n",
              "      <td>False</td>\n",
              "      <td>False</td>\n",
              "      <td>False</td>\n",
              "      <td>False</td>\n",
              "      <td>False</td>\n",
              "      <td>False</td>\n",
              "      <td>...</td>\n",
              "      <td>0</td>\n",
              "      <td>0</td>\n",
              "      <td>1</td>\n",
              "      <td>1</td>\n",
              "      <td>2</td>\n",
              "      <td>2</td>\n",
              "      <td>0</td>\n",
              "      <td>0</td>\n",
              "      <td>0</td>\n",
              "      <td>0</td>\n",
              "      <td>0</td>\n",
              "      <td>0</td>\n",
              "      <td>0</td>\n",
              "      <td>0</td>\n",
              "      <td>0</td>\n",
              "      <td>0</td>\n",
              "      <td>0</td>\n",
              "      <td>0</td>\n",
              "      <td>0</td>\n",
              "      <td>0</td>\n",
              "      <td>0</td>\n",
              "      <td>0</td>\n",
              "      <td>0</td>\n",
              "      <td>0</td>\n",
              "      <td>0</td>\n",
              "      <td>0</td>\n",
              "      <td>0</td>\n",
              "      <td>0</td>\n",
              "      <td>0</td>\n",
              "      <td>0</td>\n",
              "      <td>0</td>\n",
              "      <td>0</td>\n",
              "      <td>0</td>\n",
              "      <td>0</td>\n",
              "      <td>0</td>\n",
              "      <td>0</td>\n",
              "      <td>0</td>\n",
              "      <td>0</td>\n",
              "      <td>0</td>\n",
              "      <td>1</td>\n",
              "    </tr>\n",
              "  </tbody>\n",
              "</table>\n",
              "<p>3 rows × 130 columns</p>\n",
              "</div>"
            ],
            "text/plain": [
              "       RATING  VERIFIED_PURCHASE  ...  categ_Watches  categ_Wireless\n",
              "19641       5                  1  ...              0               0\n",
              "42          4                  1  ...              0               0\n",
              "19849       5                  1  ...              0               1\n",
              "\n",
              "[3 rows x 130 columns]"
            ]
          },
          "metadata": {
            "tags": []
          },
          "execution_count": 28
        }
      ]
    },
    {
      "cell_type": "markdown",
      "metadata": {
        "id": "lGd_vbAg0QVw"
      },
      "source": [
        "# Dummy Classifiers"
      ]
    },
    {
      "cell_type": "code",
      "metadata": {
        "colab": {
          "base_uri": "https://localhost:8080/"
        },
        "id": "x34Reoze0SNg",
        "outputId": "f4b39423-813a-45e8-e9d4-094adad2b9c7"
      },
      "source": [
        "from sklearn.dummy import DummyClassifier\n",
        "from sklearn.metrics import accuracy_score, precision_score, recall_score, roc_auc_score, f1_score\n",
        "\n",
        "#### set baseline via dummy classifier performance under varied strategies\n",
        "dummy_strats = [\"uniform\", \"stratified\", \"most_frequent\", \"prior\"]\n",
        "for strat in dummy_strats:\n",
        "    dummy_clf = DummyClassifier(strategy=strat).fit(X_train, y_train)\n",
        "    y_preds = dummy_clf.predict(X_test)\n",
        "    print(f\"{strat}: \\tacc: {round(accuracy_score(y_test, y_preds),4)}\")\n",
        "    print(f\"{strat}: \\tpre: {round(precision_score(y_test, y_preds),4)}\")\n",
        "    print(f\"{strat}: \\trec: {round(recall_score(y_test, y_preds),4)}\")\n",
        "    print(f\"{strat}: \\tauc: {round(roc_auc_score(y_test, y_preds),4)}\")\n",
        "    print(f\"{strat}: \\t f1: {round(f1_score(y_test, y_preds),4)}\\n\")"
      ],
      "execution_count": null,
      "outputs": [
        {
          "output_type": "stream",
          "text": [
            "uniform: \tacc: 0.5064\n",
            "uniform: \tpre: 0.5063\n",
            "uniform: \trec: 0.5167\n",
            "uniform: \tauc: 0.5064\n",
            "uniform: \t f1: 0.5114\n",
            "\n",
            "stratified: \tacc: 0.5031\n",
            "stratified: \tpre: 0.5031\n",
            "stratified: \trec: 0.4962\n",
            "stratified: \tauc: 0.5031\n",
            "stratified: \t f1: 0.4996\n",
            "\n",
            "most_frequent: \tacc: 0.5\n",
            "most_frequent: \tpre: 0.0\n",
            "most_frequent: \trec: 0.0\n",
            "most_frequent: \tauc: 0.5\n",
            "most_frequent: \t f1: 0.0\n",
            "\n",
            "prior: \tacc: 0.5\n",
            "prior: \tpre: 0.0\n",
            "prior: \trec: 0.0\n",
            "prior: \tauc: 0.5\n",
            "prior: \t f1: 0.0\n",
            "\n"
          ],
          "name": "stdout"
        }
      ]
    },
    {
      "cell_type": "markdown",
      "metadata": {
        "id": "FDifkVpZtqZh"
      },
      "source": [
        "# Model :: First Attempts"
      ]
    },
    {
      "cell_type": "code",
      "metadata": {
        "colab": {
          "base_uri": "https://localhost:8080/"
        },
        "id": "sNk0Nmsxrp7H",
        "outputId": "492c923d-78c1-46a7-d1a8-c1bcf7054b17"
      },
      "source": [
        "from sklearn.ensemble import RandomForestClassifier\n",
        "from sklearn.metrics import accuracy_score, precision_score, recall_score, roc_auc_score, f1_score\n",
        "\n",
        "rf = RandomForestClassifier()\n",
        "rf.fit(X_train,y_train)\n",
        "y_preds = rf.predict(X_test)\n",
        "\n",
        "print(f\"accuracy: \\t{round(accuracy_score(y_test, y_preds)*100,4)}%\")\n",
        "print(f\"precision: \\t{round(precision_score(y_test, y_preds)*100,4)}%\")\n",
        "print(f\"recall: \\t{round(recall_score(y_test, y_preds)*100,4)}%\")\n",
        "print(f\"ROC AUC: \\t{round(roc_auc_score(y_test, y_preds)*100,4)}%\")\n",
        "print(f\"F1 score: \\t{round(f1_score(y_test, y_preds)*100,4)}%\")"
      ],
      "execution_count": null,
      "outputs": [
        {
          "output_type": "stream",
          "text": [
            "accuracy: \t80.7857%\n",
            "precision: \t76.7924%\n",
            "recall: \t88.2381%\n",
            "ROC AUC: \t80.7857%\n",
            "F1 score: \t82.1183%\n"
          ],
          "name": "stdout"
        }
      ]
    },
    {
      "cell_type": "code",
      "metadata": {
        "colab": {
          "base_uri": "https://localhost:8080/"
        },
        "id": "ta0OA79xuZfC",
        "outputId": "fe82a661-c094-482d-967d-4557dd8fb124"
      },
      "source": [
        "from sklearn.neighbors import KNeighborsClassifier\n",
        "from sklearn.metrics import accuracy_score, precision_score, recall_score, roc_auc_score, f1_score\n",
        "\n",
        "knn = KNeighborsClassifier()\n",
        "knn.fit(X_train,y_train)\n",
        "y_preds = knn.predict(X_test)\n",
        "\n",
        "print(f\"accuracy: \\t{round(accuracy_score(y_test, y_preds)*100,4)}%\")\n",
        "print(f\"precision: \\t{round(precision_score(y_test, y_preds)*100,4)}%\")\n",
        "print(f\"recall: \\t{round(recall_score(y_test, y_preds)*100,4)}%\")\n",
        "print(f\"ROC AUC: \\t{round(roc_auc_score(y_test, y_preds)*100,4)}%\")\n",
        "print(f\"F1 score: \\t{round(f1_score(y_test, y_preds)*100,4)}%\")"
      ],
      "execution_count": null,
      "outputs": [
        {
          "output_type": "stream",
          "text": [
            "accuracy: \t59.0714%\n",
            "precision: \t59.6553%\n",
            "recall: \t56.0476%\n",
            "ROC AUC: \t59.0714%\n",
            "F1 score: \t57.7952%\n"
          ],
          "name": "stdout"
        }
      ]
    },
    {
      "cell_type": "code",
      "metadata": {
        "colab": {
          "base_uri": "https://localhost:8080/"
        },
        "id": "L4o4MFtvuqnP",
        "outputId": "c5f91b79-adf1-4e79-968d-bb43bf16c682"
      },
      "source": [
        "from sklearn.linear_model import LogisticRegression\n",
        "from sklearn.metrics import accuracy_score, precision_score, recall_score, roc_auc_score, f1_score\n",
        "\n",
        "logReg = LogisticRegression()\n",
        "logReg.fit(X_train,y_train)\n",
        "y_preds = logReg.predict(X_test)\n",
        "\n",
        "print(f\"accuracy: \\t{round(accuracy_score(y_test, y_preds)*100,4)}%\")\n",
        "print(f\"precision: \\t{round(precision_score(y_test, y_preds)*100,4)}%\")\n",
        "print(f\"recall: \\t{round(recall_score(y_test, y_preds)*100,4)}%\")\n",
        "print(f\"ROC AUC: \\t{round(roc_auc_score(y_test, y_preds)*100,4)}%\")\n",
        "print(f\"F1 score: \\t{round(f1_score(y_test, y_preds)*100,4)}%\")"
      ],
      "execution_count": null,
      "outputs": [
        {
          "output_type": "stream",
          "text": [
            "accuracy: \t79.0476%\n",
            "precision: \t75.6087%\n",
            "recall: \t85.7619%\n",
            "ROC AUC: \t79.0476%\n",
            "F1 score: \t80.3659%\n"
          ],
          "name": "stdout"
        }
      ]
    },
    {
      "cell_type": "code",
      "metadata": {
        "colab": {
          "base_uri": "https://localhost:8080/"
        },
        "id": "Tr2neoDZmdai",
        "outputId": "a1dbb386-28cc-41f4-a80c-42a61b0fd965"
      },
      "source": [
        "from sklearn.svm import LinearSVC\n",
        "from sklearn.metrics import accuracy_score, precision_score, recall_score, roc_auc_score, f1_score\n",
        "\n",
        "linSVC = LinearSVC()\n",
        "linSVC.fit(X_train, y_train)\n",
        "y_preds = linSVC.predict(X_test)\n",
        "\n",
        "print(f\"accuracy: \\t{round(accuracy_score(y_test, y_preds)*100,4)}%\")\n",
        "print(f\"precision: \\t{round(precision_score(y_test, y_preds)*100,4)}%\")\n",
        "print(f\"recall: \\t{round(recall_score(y_test, y_preds)*100,4)}%\")\n",
        "print(f\"ROC AUC: \\t{round(roc_auc_score(y_test, y_preds)*100,4)}%\")\n",
        "print(f\"F1 score: \\t{round(f1_score(y_test, y_preds)*100,4)}%\")"
      ],
      "execution_count": null,
      "outputs": [
        {
          "output_type": "stream",
          "text": [
            "accuracy: \t50.4286%\n",
            "precision: \t90.9091%\n",
            "recall: \t0.9524%\n",
            "ROC AUC: \t50.4286%\n",
            "F1 score: \t1.885%\n"
          ],
          "name": "stdout"
        }
      ]
    },
    {
      "cell_type": "code",
      "metadata": {
        "colab": {
          "base_uri": "https://localhost:8080/"
        },
        "id": "M33kaxKJosPM",
        "outputId": "04ad8c9f-61c0-4058-d7b6-f06eb395dde8"
      },
      "source": [
        "from xgboost import XGBClassifier\n",
        "from sklearn.metrics import accuracy_score, precision_score, recall_score, roc_auc_score, f1_score\n",
        "\n",
        "xgb = XGBClassifier()\n",
        "xgb.fit(X_train,y_train)\n",
        "y_preds = xgb.predict(X_test)\n",
        "\n",
        "print(\"Model :: XGBClassifier\")\n",
        "print(f\"accuracy: \\t{round(accuracy_score(y_test, y_preds)*100,4)}%\")\n",
        "print(f\"precision: \\t{round(precision_score(y_test, y_preds)*100,4)}%\")\n",
        "print(f\"recall: \\t{round(recall_score(y_test, y_preds)*100,4)}%\")\n",
        "print(f\"ROC AUC: \\t{round(roc_auc_score(y_test, y_preds)*100,4)}%\")\n",
        "print(f\"F1 score: \\t{round(f1_score(y_test, y_preds)*100,4)}%\")"
      ],
      "execution_count": null,
      "outputs": [
        {
          "output_type": "stream",
          "text": [
            "Model :: XGBClassifier\n",
            "accuracy: \t81.8333%\n",
            "precision: \t77.9123%\n",
            "recall: \t88.8571%\n",
            "ROC AUC: \t81.8333%\n",
            "F1 score: \t83.0256%\n"
          ],
          "name": "stdout"
        }
      ]
    },
    {
      "cell_type": "code",
      "metadata": {
        "colab": {
          "base_uri": "https://localhost:8080/"
        },
        "id": "zFLq42Fsyi64",
        "outputId": "70bb4b00-4e28-40a0-87c6-d6a6c0f50679"
      },
      "source": [
        "important_feet = xgb.feature_importances_\n",
        "ordered_features = []\n",
        "for pair in zip(X_train.columns, important_feet):\n",
        "    ordered_features.append((round(pair[1]*100,6), pair[0]))\n",
        "ordered_features = sorted(ordered_features, key=lambda x: x[0], reverse=True)\n",
        "for i in ordered_features:\n",
        "    print(i)"
      ],
      "execution_count": null,
      "outputs": [
        {
          "output_type": "stream",
          "text": [
            "(37.509999, 'VERIFIED_PURCHASE')\n",
            "(9.932315, 'body_token_len')\n",
            "(2.898757, 'uniq_body_tokens')\n",
            "(2.511729, 'body_char_len')\n",
            "(2.275128, 'JJ')\n",
            "(2.197999, 'linebreak_in_body')\n",
            "(2.163635, 'url_in_body')\n",
            "(1.909167, 'RATING')\n",
            "(1.802046, 'polarity')\n",
            "(1.708793, 'real')\n",
            "(1.677723, 'NNP')\n",
            "(1.573749, 'categ_Furniture')\n",
            "(1.362875, 'NNS')\n",
            "(1.314072, 'CD')\n",
            "(1.270345, 'his')\n",
            "(0.994398, '\\\\bmy\\\\b')\n",
            "(0.96576, 'body_word_len')\n",
            "(0.958122, 'categ_Beauty')\n",
            "(0.925714, '\\\\bI\\\\b')\n",
            "(0.924088, 'categ_Wireless')\n",
            "(0.911325, 'categ_Books')\n",
            "(0.894039, 'DT')\n",
            "(0.832515, 'categ_Health & Personal Care')\n",
            "(0.775015, 'title_case%')\n",
            "(0.758344, 'RP')\n",
            "(0.757726, 'VBZ')\n",
            "(0.715803, 'smell')\n",
            "(0.705588, 'categ_Kitchen')\n",
            "(0.690089, 'categ_Apparel')\n",
            "(0.632037, 'categ_Home Improvement')\n",
            "(0.618626, 'categ_Grocery')\n",
            "(0.599701, 'RB')\n",
            "(0.577714, 'subjectivity')\n",
            "(0.569914, 'VB')\n",
            "(0.552048, 'contains_ASIN')\n",
            "(0.549432, 'body_cap_char%')\n",
            "(0.549358, 'categ_Automotive')\n",
            "(0.543174, 'office')\n",
            "(0.528607, 'feel')\n",
            "(0.495222, 'categ_Home Entertainment')\n",
            "(0.474269, 'VBN')\n",
            "(0.473117, '\\\\bhim\\\\b')\n",
            "(0.472904, 'categ_Video DVD')\n",
            "(0.458738, 'yours')\n",
            "(0.43917, '\\\\bshe\\\\b')\n",
            "(0.426005, 'light')\n",
            "(0.423158, 'VBP')\n",
            "(0.423024, 'VBG')\n",
            "(0.422247, 'JJS')\n",
            "(0.416362, 'categ_Luggage')\n",
            "(0.416146, 'affordable')\n",
            "(0.40253, 'PDT')\n",
            "(0.390049, 'TO')\n",
            "(0.379911, 'categ_Baby')\n",
            "(0.376759, 'VBD')\n",
            "(0.371051, 'organic')\n",
            "(0.360798, 'heav')\n",
            "(0.346121, 'fake')\n",
            "(0.338427, '\\\\bwe\\\\b')\n",
            "(0.33554, 'CC')\n",
            "(0.328392, 'IN')\n",
            "(0.310423, '\\\\bher\\\\b')\n",
            "(0.279327, 'parent')\n",
            "(0.255317, 'NN')\n",
            "(0.206801, '\\\\bson\\\\b')\n",
            "(0.178594, 'WP')\n",
            "(0.162132, 'JJR')\n",
            "(0.0, 'body_no_caps')\n",
            "(0.0, 'body_all_caps')\n",
            "(0.0, 'contains_video')\n",
            "(0.0, 'kid')\n",
            "(0.0, 'wife')\n",
            "(0.0, 'baby')\n",
            "(0.0, 'cheap')\n",
            "(0.0, 'luxur')\n",
            "(0.0, 'false')\n",
            "(0.0, 'natural')\n",
            "(0.0, 'poor')\n",
            "(0.0, 'rich')\n",
            "(0.0, 'authentic')\n",
            "(0.0, 'synthetic')\n",
            "(0.0, 'good')\n",
            "(0.0, 'bad')\n",
            "(0.0, 'broke')\n",
            "(0.0, 'faulty')\n",
            "(0.0, 'busted')\n",
            "(0.0, '\\\\bhe\\\\b')\n",
            "(0.0, '\\\\bhers\\\\b')\n",
            "(0.0, 'your')\n",
            "(0.0, '\\\\bour\\\\b')\n",
            "(0.0, 'they')\n",
            "(0.0, 'their')\n",
            "(0.0, 'church')\n",
            "(0.0, 'god')\n",
            "(0.0, 'faith')\n",
            "(0.0, '\\\\bMAGA\\\\b')\n",
            "(0.0, 'patriot')\n",
            "(0.0, 'america')\n",
            "(0.0, 'china')\n",
            "(0.0, 'chinese')\n",
            "(0.0, 'EX')\n",
            "(0.0, 'FW')\n",
            "(0.0, 'LS')\n",
            "(0.0, 'MD')\n",
            "(0.0, 'NNPS')\n",
            "(0.0, 'POS')\n",
            "(0.0, 'RPR')\n",
            "(0.0, 'RPR$')\n",
            "(0.0, 'RBR')\n",
            "(0.0, 'RBS')\n",
            "(0.0, 'UH')\n",
            "(0.0, 'WDT')\n",
            "(0.0, 'WP$')\n",
            "(0.0, 'WRB')\n",
            "(0.0, 'categ_Camera')\n",
            "(0.0, 'categ_Electronics')\n",
            "(0.0, 'categ_Home')\n",
            "(0.0, 'categ_Jewelry')\n",
            "(0.0, 'categ_Lawn and Garden')\n",
            "(0.0, 'categ_Musical Instruments')\n",
            "(0.0, 'categ_Office Products')\n",
            "(0.0, 'categ_Outdoors')\n",
            "(0.0, 'categ_PC')\n",
            "(0.0, 'categ_Pet Products')\n",
            "(0.0, 'categ_Shoes')\n",
            "(0.0, 'categ_Sports')\n",
            "(0.0, 'categ_Tools')\n",
            "(0.0, 'categ_Toys')\n",
            "(0.0, 'categ_Video Games')\n",
            "(0.0, 'categ_Watches')\n"
          ],
          "name": "stdout"
        }
      ]
    },
    {
      "cell_type": "code",
      "metadata": {
        "id": "gilEEtq-m0Wb"
      },
      "source": [
        "import matplotlib.pyplot as plt\n",
        "import seaborn as sns\n",
        "# sns.set_style(\"whitegrid\")\n",
        "%matplotlib inline\n",
        "\n",
        "X_vals = [i[1] for i in ordered_features[:10]]\n",
        "y_vals = [i[0] for i in ordered_features[:10]]\n",
        "# ordered_features[:10]"
      ],
      "execution_count": null,
      "outputs": []
    },
    {
      "cell_type": "code",
      "metadata": {
        "colab": {
          "base_uri": "https://localhost:8080/",
          "height": 423
        },
        "id": "J8rvaoGCncl7",
        "outputId": "42e4ee34-d594-4bb8-a103-ad6891b01f68"
      },
      "source": [
        "## plotting top 10 feature importances\n",
        "fig, ax = plt.subplots(figsize=(12,6))\n",
        "\n",
        "sns.barplot(x=X_vals, y=y_vals, ax=ax)\n",
        "ax.set_title(\"Top 10 Important Features\");\n",
        "plt.xticks(rotation=18);\n",
        "\n",
        "# plt.savefig(\"feature_importance.svg\", quality=95, optimize=True, format=\"svg\")"
      ],
      "execution_count": null,
      "outputs": [
        {
          "output_type": "display_data",
          "data": {
            "image/png": "[encoded data removed]",
            "text/plain": [
              "<Figure size 864x432 with 1 Axes>"
            ]
          },
          "metadata": {
            "tags": [],
            "needs_background": "light"
          }
        }
      ]
    },
    {
      "cell_type": "code",
      "metadata": {
        "id": "hHvqpJddyWdY"
      },
      "source": [
        "# from matplotlib import pyplot\n",
        "# pyplot.bar([x for x in range(len(important_feet))], important_feet)\n",
        "# pyplot.show()"
      ],
      "execution_count": null,
      "outputs": []
    },
    {
      "cell_type": "code",
      "metadata": {
        "colab": {
          "base_uri": "https://localhost:8080/"
        },
        "id": "_NCE5j-wosRp",
        "outputId": "c832c910-4671-4071-c234-47035bf8740f"
      },
      "source": [
        "from sklearn.neural_network import MLPClassifier\n",
        "from sklearn.metrics import accuracy_score, precision_score, recall_score, roc_auc_score, f1_score\n",
        "\n",
        "mlp = MLPClassifier()\n",
        "mlp.fit(X_train,y_train)\n",
        "y_preds = mlp.predict(X_test)\n",
        "\n",
        "print(f\"accuracy: \\t{round(accuracy_score(y_test, y_preds)*100,4)}%\")\n",
        "print(f\"precision: \\t{round(precision_score(y_test, y_preds)*100,4)}%\")\n",
        "print(f\"recall: \\t{round(recall_score(y_test, y_preds)*100,4)}%\")\n",
        "print(f\"ROC AUC: \\t{round(roc_auc_score(y_test, y_preds)*100,4)}%\")\n",
        "print(f\"F1 score: \\t{round(f1_score(y_test, y_preds)*100,4)}%\")"
      ],
      "execution_count": null,
      "outputs": [
        {
          "output_type": "stream",
          "text": [
            "accuracy: \t80.2619%\n",
            "precision: \t79.4622%\n",
            "recall: \t81.619%\n",
            "ROC AUC: \t80.2619%\n",
            "F1 score: \t80.5262%\n"
          ],
          "name": "stdout"
        }
      ]
    },
    {
      "cell_type": "code",
      "metadata": {
        "colab": {
          "base_uri": "https://localhost:8080/"
        },
        "id": "A0uMcCvoxPxy",
        "outputId": "3425887d-5be8-4853-d37f-0b49d1718ac0"
      },
      "source": [
        "from sklearn.naive_bayes import GaussianNB\n",
        "from sklearn.metrics import accuracy_score, precision_score, recall_score, roc_auc_score, f1_score\n",
        "\n",
        "guas = GaussianNB()\n",
        "guas.fit(X_train,y_train)\n",
        "y_preds = guas.predict(X_test)\n",
        "\n",
        "print(f\"accuracy: \\t{round(accuracy_score(y_test, y_preds)*100,4)}%\")\n",
        "print(f\"precision: \\t{round(precision_score(y_test, y_preds)*100,4)}%\")\n",
        "print(f\"recall: \\t{round(recall_score(y_test, y_preds)*100,4)}%\")\n",
        "print(f\"ROC AUC: \\t{round(roc_auc_score(y_test, y_preds)*100,4)}%\")\n",
        "print(f\"F1 score: \\t{round(f1_score(y_test, y_preds)*100,4)}%\")"
      ],
      "execution_count": null,
      "outputs": [
        {
          "output_type": "stream",
          "text": [
            "accuracy: \t55.619%\n",
            "precision: \t70.7746%\n",
            "recall: \t19.1429%\n",
            "ROC AUC: \t55.619%\n",
            "F1 score: \t30.1349%\n"
          ],
          "name": "stdout"
        }
      ]
    },
    {
      "cell_type": "code",
      "metadata": {
        "colab": {
          "base_uri": "https://localhost:8080/"
        },
        "id": "Zelge_taxbn8",
        "outputId": "beb4e0de-0898-44cc-f81e-9698792ac6d5"
      },
      "source": [
        "from sklearn.linear_model import SGDClassifier\n",
        "from sklearn.metrics import accuracy_score, precision_score, recall_score, roc_auc_score, f1_score\n",
        "\n",
        "sgd = SGDClassifier()\n",
        "sgd.fit(X_train,y_train)\n",
        "y_preds = sgd.predict(X_test)\n",
        "\n",
        "print(f\"accuracy: \\t{round(accuracy_score(y_test, y_preds)*100,4)}%\")\n",
        "print(f\"precision: \\t{round(precision_score(y_test, y_preds)*100,4)}%\")\n",
        "print(f\"recall: \\t{round(recall_score(y_test, y_preds)*100,4)}%\")\n",
        "print(f\"ROC AUC: \\t{round(roc_auc_score(y_test, y_preds)*100,4)}%\")\n",
        "print(f\"F1 score: \\t{round(f1_score(y_test, y_preds)*100,4)}%\")"
      ],
      "execution_count": null,
      "outputs": [
        {
          "output_type": "stream",
          "text": [
            "accuracy: \t50.4524%\n",
            "precision: \t50.2273%\n",
            "recall: \t99.9524%\n",
            "ROC AUC: \t50.4524%\n",
            "F1 score: \t66.8578%\n"
          ],
          "name": "stdout"
        }
      ]
    },
    {
      "cell_type": "markdown",
      "metadata": {
        "id": "837KjIaXy8td"
      },
      "source": [
        "# Model Selection and Further Processing\n",
        "- Best performing models (based on F1 score): XGBoost, RandomForest, MLP\n",
        "- Principal Component Analysis\n",
        "- GridSearch for performance boosts"
      ]
    },
    {
      "cell_type": "code",
      "metadata": {
        "id": "FgSHWq7tJ2Lr"
      },
      "source": [
        "from sklearn.decomposition import PCA\n",
        "\n",
        "n_comps = 20\n",
        "\n",
        "pca = PCA(n_components=n_comps)\n",
        "\n",
        "## dimensionality reduction on our data\n",
        "X_train_pca = pca.fit_transform(X_train)\n",
        "X_test_pca = pca.transform(X_test)\n",
        "\n",
        "best_models = {\"XGBoost\": XGBClassifier(),\n",
        "               \"RandomForest\": RandomForestClassifier(),\n",
        "               \"MLP\": MLPClassifier()}\n",
        "\n",
        "print(f\"Models under PCA [{n_comps} Components]\")\n",
        "\n",
        "for i in best_models.items():\n",
        "    clf = i[1].fit(X_train_pca, y_train)\n",
        "\n",
        "    y_preds = clf.predict(X_test_pca)\n",
        "\n",
        "    print(f\"\\t{i[0]}: {round(f1_score(y_preds, y_test),6)}\")\n",
        "\n",
        "### It seems that peforming PCA actually decreases F1 score, now getting a variable number of components to \n",
        "### see the effect as we increase n_comps. Let's find the optimal number of components to use"
      ],
      "execution_count": null,
      "outputs": []
    },
    {
      "cell_type": "markdown",
      "metadata": {
        "id": "BUxONq-CMahh"
      },
      "source": [
        "Getting PCA scores for our three models (XGB, MLP, RF), skipping every 5 components since we have so many features. "
      ]
    },
    {
      "cell_type": "code",
      "metadata": {
        "id": "l8bEA7IN54i6"
      },
      "source": [
        "#### Principal Component Analysis (PCA) with variable number of components (jump every 5 comps in range function)\n",
        "pca_scores_xgb = {}\n",
        "pca_scores_mlp = {}\n",
        "pca_scores_rf = {}\n",
        "\n",
        "for i in range(1, len(X_train.columns.values), 5):\n",
        "    pca = PCA(n_components=i)\n",
        "\n",
        "    ## fit data into pca\n",
        "    X_train_pca = pca.fit_transform(X_train)\n",
        "    X_test_pca = pca.transform(X_test)\n",
        "    # pca.explained_variance_\n",
        "    \n",
        "    ## get our xgb classifier results\n",
        "    a = XGBClassifier()\n",
        "    a.fit(X_train_pca, y_train)\n",
        "    y_preds_xgb = a.predict(X_test_pca)\n",
        "\n",
        "    pca_scores_xgb[i] = f1_score(y_preds_xgb, y_test)\n",
        "\n",
        "    ## mlp classifier results\n",
        "    b = MLPClassifier()\n",
        "    b.fit(X_train_pca, y_train)\n",
        "    y_preds_mlp = b.predict(X_test_pca)\n",
        "\n",
        "    pca_scores_mlp[i] = f1_score(y_preds_mlp, y_test)\n",
        "\n",
        "    ## rf classifier results\n",
        "    c = RandomForestClassifier()\n",
        "    c.fit(X_train_pca, y_train)\n",
        "    y_preds_rf = c.predict(X_test_pca)\n",
        "\n",
        "    pca_scores_rf[i] = f1_score(y_preds_rf, y_test)"
      ],
      "execution_count": null,
      "outputs": []
    },
    {
      "cell_type": "code",
      "metadata": {
        "colab": {
          "base_uri": "https://localhost:8080/",
          "height": 621
        },
        "id": "lEq7a4nV7Ien",
        "outputId": "120be0c4-28fd-403d-94a1-4c9664aece38"
      },
      "source": [
        "## plotting these PCA scores and visually obsercing the plateau, we pick a number of components through this visual aid \n",
        "import matplotlib.pyplot as plt\n",
        "import seaborn as sns\n",
        "%matplotlib inline \n",
        "\n",
        "fig, (ax1, ax2, ax3) = plt.subplots(3, 1, figsize=(10,10), sharex=True)\n",
        "\n",
        "## xgboost PCA viz\n",
        "ax1.plot(list(pca_scores_xgb.keys()), list(pca_scores_xgb.values()))\n",
        "ax1.set_title(\"XGBoost PCA effect on F1 Score\")\n",
        "ax1.set_ylabel(\"F1 score\")\n",
        "# ax1.set_xlabel(\"# components\")\n",
        "\n",
        "## mlp PCA viz\n",
        "ax2.plot(list(pca_scores_mlp.keys()), list(pca_scores_mlp.values()))\n",
        "ax2.set_title(\"Multi-Layer Perceptron PCA effect on F1 Score\")\n",
        "ax2.set_ylabel(\"F1 score\")\n",
        "# ax2.set_xlabel(\"# components\")\n",
        "\n",
        "## RF PCA viz\n",
        "ax3.plot(list(pca_scores_rf.keys()), list(pca_scores_rf.values()))\n",
        "ax3.set_title(\"Random Forest PCA effect on F1 Score\")\n",
        "ax3.set_ylabel(\"F1 score\")\n",
        "ax3.set_xlabel(\"# components\");\n",
        "\n",
        "plt.savefig(\"pca_explain.svg\", quality=95, optimize=True, format=\"svg\")\n",
        "\n",
        "# pca_scores_xgb\n",
        "# pca_scores_mlp\n",
        "# pca_scores_rf"
      ],
      "execution_count": null,
      "outputs": [
        {
          "output_type": "display_data",
          "data": {
            "image/png": "[encoded data removed]",
            "text/plain": [
              "<Figure size 720x720 with 3 Axes>"
            ]
          },
          "metadata": {
            "tags": [],
            "needs_background": "light"
          }
        }
      ]
    },
    {
      "cell_type": "markdown",
      "metadata": {
        "id": "gVUoj0gPMo0O"
      },
      "source": [
        "Just by seeing at the visualization, we can make the claim that choosing 30-35 components and get pretty good results (not 130 features anymore). This will help us achieve better computational efficiency at a very low cost."
      ]
    },
    {
      "cell_type": "markdown",
      "metadata": {
        "id": "pC1_KrHAf7lx"
      },
      "source": [
        "### Principal Component Analysis (PCA)"
      ]
    },
    {
      "cell_type": "code",
      "metadata": {
        "id": "qKAV8XbrIX3H"
      },
      "source": [
        "## Through the visual aid, we pick 35 principal components. We'll observe the performance on vanilla classifier, and further gridsearch these models to see model improvement\n",
        "optimal_comps = 35\n",
        "\n",
        "pca = PCA(n_components=optimal_comps)\n",
        "\n",
        "## get train/test with 35 components\n",
        "X_train_pca = pca.fit_transform(X_train)\n",
        "X_test_pca = pca.transform(X_test)"
      ],
      "execution_count": null,
      "outputs": []
    },
    {
      "cell_type": "code",
      "metadata": {
        "colab": {
          "base_uri": "https://localhost:8080/"
        },
        "id": "P-jldXV3PCfH",
        "outputId": "583ced04-2448-4d78-ce44-fcff9bbc9b57"
      },
      "source": [
        "## let's get the F1 score for our best models, to then GridSearch parameter tune\n",
        "xgb_clf = XGBClassifier().fit(X_train_pca, y_train)\n",
        "y_preds_xgb = xgb_clf.predict(X_test_pca)\n",
        "\n",
        "print(f\"XGB Classifier Performance with PCA\")\n",
        "print(f\"accuracy @35: \\t{round(accuracy_score(y_test, y_preds_xgb)*100,4)}%\")\n",
        "print(f\"precision @35: \\t{round(precision_score(y_test, y_preds_xgb)*100,4)}%\")\n",
        "print(f\"recall @35: \\t{round(recall_score(y_test, y_preds_xgb)*100,4)}%\")\n",
        "print(f\"ROC AUC @35: \\t{round(roc_auc_score(y_test, y_preds_xgb)*100,4)}%\")\n",
        "print(f\"F1 score @35: \\t{round(f1_score(y_test, y_preds_xgb)*100,4)}%\")"
      ],
      "execution_count": null,
      "outputs": [
        {
          "output_type": "stream",
          "text": [
            "XGB Classifier Performance with PCA\n",
            "accuracy @35: \t79.8095%\n",
            "precision @35: \t75.6979%\n",
            "recall @35: \t87.8095%\n",
            "ROC AUC @35: \t79.8095%\n",
            "F1 score @35: \t81.3051%\n"
          ],
          "name": "stdout"
        }
      ]
    },
    {
      "cell_type": "code",
      "metadata": {
        "colab": {
          "base_uri": "https://localhost:8080/"
        },
        "id": "zjCz8xWrPWHp",
        "outputId": "cb47e2f7-0177-4799-a6d7-eb9b9a3567a0"
      },
      "source": [
        "## doing vanilla random forest pca\n",
        "rf_clf = RandomForestClassifier().fit(X_train_pca, y_train)\n",
        "y_preds_rf = rf_clf.predict(X_test_pca)\n",
        "\n",
        "print(f\"Random Forest Performance with PCA\")\n",
        "print(f\"accuracy @35: \\t{round(accuracy_score(y_test, y_preds_rf)*100,4)}%\")\n",
        "print(f\"precision @35: \\t{round(precision_score(y_test, y_preds_rf)*100,4)}%\")\n",
        "print(f\"recall @35: \\t{round(recall_score(y_test, y_preds_rf)*100,4)}%\")\n",
        "print(f\"ROC AUC @35: \\t{round(roc_auc_score(y_test, y_preds_rf)*100,4)}%\")\n",
        "print(f\"F1 score @35: \\t{round(f1_score(y_test, y_preds_rf)*100,4)}%\")"
      ],
      "execution_count": null,
      "outputs": [
        {
          "output_type": "stream",
          "text": [
            "Random Forest Performance with PCA\n",
            "accuracy @35: \t80.2857%\n",
            "precision @35: \t76.0442%\n",
            "recall @35: \t88.4286%\n",
            "ROC AUC @35: \t80.2857%\n",
            "F1 score @35: \t81.7701%\n"
          ],
          "name": "stdout"
        }
      ]
    },
    {
      "cell_type": "code",
      "metadata": {
        "colab": {
          "base_uri": "https://localhost:8080/"
        },
        "id": "oKk1ZELjPixE",
        "outputId": "137c1aae-6a14-4a19-d55b-f25810738991"
      },
      "source": [
        "## doing vanilla MLP with pca \n",
        "mlp_clf = MLPClassifier().fit(X_train_pca, y_train)\n",
        "y_preds_mlp = mlp_clf.predict(X_test_pca)\n",
        "\n",
        "print(f\"Multi-Layer Perceptron Performance with PCA\")\n",
        "print(f\"accuracy @35: \\t{round(accuracy_score(y_test, y_preds_mlp)*100,4)}%\")\n",
        "print(f\"precision @35: \\t{round(precision_score(y_test, y_preds_mlp)*100,4)}%\")\n",
        "print(f\"recall @35: \\t{round(recall_score(y_test, y_preds_mlp)*100,4)}%\")\n",
        "print(f\"ROC AUC @35: \\t{round(roc_auc_score(y_test, y_preds_mlp)*100,4)}%\")\n",
        "print(f\"F1 score @35: \\t{round(f1_score(y_test, y_preds_mlp)*100,4)}%\")"
      ],
      "execution_count": null,
      "outputs": [
        {
          "output_type": "stream",
          "text": [
            "Multi-Layer Perceptron Performance with PCA\n",
            "accuracy @35: \t80.0714%\n",
            "precision @35: \t77.0218%\n",
            "recall @35: \t85.7143%\n",
            "ROC AUC @35: \t80.0714%\n",
            "F1 score @35: \t81.1359%\n"
          ],
          "name": "stdout"
        }
      ]
    },
    {
      "cell_type": "markdown",
      "metadata": {
        "id": "rFfHLxI6QbhX"
      },
      "source": [
        "### GridSearch and PCA"
      ]
    },
    {
      "cell_type": "code",
      "metadata": {
        "id": "GtM27VWeP2jB",
        "colab": {
          "base_uri": "https://localhost:8080/"
        },
        "outputId": "ec7b2948-ca9e-4782-b37c-2c0afa8184c3"
      },
      "source": [
        "## XGBoost parameter tuning\n",
        "from sklearn.model_selection import GridSearchCV\n",
        "\n",
        "N=35 # ideal number of components\n",
        "\n",
        "clf_xgb = XGBClassifier()\n",
        "\n",
        "## removed, to see if it's doable now:\n",
        "    # 'subsample': [0.5, 0.7],\n",
        "    # 'colsample_bytree': [0.5, 0.7],\n",
        "\n",
        "param_grid = {\n",
        "    'learning_rate': [0.01, 0.05, 0.1],\n",
        "    'max_depth': [2, 5, 7],\n",
        "    'min_child_weight': [1, 3, 5],\n",
        "    'n_estimators' : [100, 200, 300],\n",
        "    'objective': ['reg:squarederror', 'binary:logistic']\n",
        "}   \n",
        "\n",
        "cv_xgb = GridSearchCV(clf_xgb, param_grid, scoring=\"f1\", n_jobs=-1)\n",
        "cv_xgb.fit(X_train_pca, y_train)\n",
        "\n",
        "print(f\"Given {N} principal components\")\n",
        "print(f\"Grid-Best Score: {round(cv_xgb.best_score_, 4)}\")\n",
        "print(f\"Grid-Best Parameters: {cv_xgb.best_params_}\")\n"
      ],
      "execution_count": null,
      "outputs": [
        {
          "output_type": "stream",
          "text": [
            "Given 35 principal components\n",
            "Grid-Best Score: 0.8108\n",
            "Grid-Best Parameters: {'learning_rate': 0.1, 'max_depth': 5, 'min_child_weight': 5, 'n_estimators': 100, 'objective': 'binary:logistic'}\n"
          ],
          "name": "stdout"
        }
      ]
    },
    {
      "cell_type": "code",
      "metadata": {
        "id": "SL6zpD0_Td_F",
        "colab": {
          "base_uri": "https://localhost:8080/"
        },
        "outputId": "85e952e1-ce7a-4134-930c-c69cb2c11324"
      },
      "source": [
        "#### Pass best parameters to a classifier and check score\n",
        "\n",
        "## note: this is accuracy, not f1. We already get g1 score using our grid-bet score since we establish scoring=f1\n",
        "tuned_xgb = XGBClassifier(**cv_xgb.best_params_)\n",
        "tuned_xgb.fit(X_train_pca, y_train)\n",
        "print(tuned_xgb.score(X_test_pca, y_test))"
      ],
      "execution_count": null,
      "outputs": [
        {
          "output_type": "stream",
          "text": [
            "0.7976190476190477\n"
          ],
          "name": "stdout"
        }
      ]
    },
    {
      "cell_type": "code",
      "metadata": {
        "colab": {
          "base_uri": "https://localhost:8080/"
        },
        "id": "qdmgHuChtLpp",
        "outputId": "e4be873a-084f-4351-e812-08c8b645f7ca"
      },
      "source": [
        "## let's pickle the models too, JIC\n",
        "from sklearn.externals import joblib \n",
        "\n",
        "joblib.dump(cv_xgb.best_estimator_, '/content/drive/Shareddrives/SI671 Project [Data Mining]/pickles/xgb_gs_best_estimator.pkl')\n",
        "joblib.dump(cv_xgb, '/content/drive/Shareddrives/SI671 Project [Data Mining]/pickles/xgb_gs_model.pkl')\n"
      ],
      "execution_count": null,
      "outputs": [
        {
          "output_type": "execute_result",
          "data": {
            "text/plain": [
              "['/content/drive/Shareddrives/SI671 Project [Data Mining]/pickles/xgb_gs_model.pkl']"
            ]
          },
          "metadata": {
            "tags": []
          },
          "execution_count": 65
        }
      ]
    },
    {
      "cell_type": "code",
      "metadata": {
        "id": "O2WD5YVZUJ9S",
        "colab": {
          "base_uri": "https://localhost:8080/"
        },
        "outputId": "270e3e93-4bdf-4eae-8593-ece337dd3395"
      },
      "source": [
        "## Random Forest parameter tuning w/ GridSearch\n",
        "from sklearn.model_selection import GridSearchCV\n",
        "\n",
        "N=35\n",
        "\n",
        "clf_rf = RandomForestClassifier()\n",
        "\n",
        "## removed to see if doable, again\n",
        "            #   \"min_samples_split\": [2, 5, 7],\n",
        "            #   \"min_samples_leaf\": [1, 2, 4]\n",
        "\n",
        "param_grid = {\"n_estimators\": [100, 200, 250],\n",
        "              \"criterion\": [\"gini\", \"entropy\"],\n",
        "              \"max_depth\": [None, 7, 10], \n",
        "              \"max_features\": [\"log2\", \"auto\", \"sqrt\"]\n",
        "              }\n",
        "\n",
        "cv_rf = GridSearchCV(clf_rf, param_grid, scoring=\"f1\", n_jobs=-1)\n",
        "cv_rf.fit(X_train_pca, y_train)\n",
        "print(f\"Given {N} principal components\")\n",
        "print(f\"Grid-Best Score: {round(cv_rf.best_score_, 4)}\")\n",
        "print(f\"Grid-Best Parameters: {cv_rf.best_params_}\")"
      ],
      "execution_count": null,
      "outputs": [
        {
          "output_type": "stream",
          "text": [
            "Given 35 principal components\n",
            "Grid-Best Score: 0.8132\n",
            "Grid-Best Parameters: {'criterion': 'gini', 'max_depth': None, 'max_features': 'auto', 'n_estimators': 250}\n"
          ],
          "name": "stdout"
        }
      ]
    },
    {
      "cell_type": "code",
      "metadata": {
        "id": "xwFEqvDdW7D5",
        "colab": {
          "base_uri": "https://localhost:8080/"
        },
        "outputId": "c22a1592-743e-48d9-83ce-896967b44c15"
      },
      "source": [
        "#### Pass best parameters to a classifier and check score\n",
        "tuned_rf = RandomForestClassifier(**cv_rf.best_params_)\n",
        "tuned_rf.fit(X_train_pca, y_train)\n",
        "print(tuned_rf.score(X_test_pca, y_test))"
      ],
      "execution_count": null,
      "outputs": [
        {
          "output_type": "stream",
          "text": [
            "0.8047619047619048\n"
          ],
          "name": "stdout"
        }
      ]
    },
    {
      "cell_type": "code",
      "metadata": {
        "id": "jWn1CMxBudM-",
        "colab": {
          "base_uri": "https://localhost:8080/"
        },
        "outputId": "bd41a930-26e0-4861-eaf7-3208de50b505"
      },
      "source": [
        "from sklearn.externals import joblib \n",
        "\n",
        "joblib.dump(cv_rf.best_estimator_, '/content/drive/Shareddrives/SI671 Project [Data Mining]/pickles/rf_gs_best_estimator.pkl')\n",
        "joblib.dump(cv_rf, '/content/drive/Shareddrives/SI671 Project [Data Mining]/pickles/rf_gs_model.pkl')"
      ],
      "execution_count": null,
      "outputs": [
        {
          "output_type": "execute_result",
          "data": {
            "text/plain": [
              "['/content/drive/Shareddrives/SI671 Project [Data Mining]/pickles/rf_gs_model.pkl']"
            ]
          },
          "metadata": {
            "tags": []
          },
          "execution_count": 78
        }
      ]
    },
    {
      "cell_type": "code",
      "metadata": {
        "id": "MAHvkaRKXCm9",
        "colab": {
          "base_uri": "https://localhost:8080/"
        },
        "outputId": "4fd69043-d098-4a56-faa3-4f76d0bd1e5f"
      },
      "source": [
        "## MLP Classifier parameter tuning\n",
        "from sklearn.model_selection import GridSearchCV\n",
        "\n",
        "N=35\n",
        "\n",
        "clf_mlp = MLPClassifier()\n",
        "\n",
        "param_grid = {\"activation\": [\"logistic\", \"relu\", \"tanh\"],\n",
        "              \"solver\": [\"sgd\", \"adam\"], \n",
        "              \"alpha\": [0.0001, 0.001, 0.01],\n",
        "              \"learning_rate\": [\"constant\", \"adaptive\"]\n",
        "              }\n",
        "\n",
        "cv_mlp = GridSearchCV(clf_mlp, param_grid, scoring=\"f1\", n_jobs=-1)\n",
        "cv_mlp.fit(X_train_pca, y_train)\n",
        "\n",
        "print(f\"Given {N} principal components\")\n",
        "print(f\"Grid-Best Score: {round(cv_mlp.best_score_, 4)}\")\n",
        "print(f\"Grid-Best Parameters: {cv_mlp.best_params_}\")"
      ],
      "execution_count": null,
      "outputs": [
        {
          "output_type": "stream",
          "text": [
            "Given 35 principal components\n",
            "Grid-Best Score: 0.8071\n",
            "Grid-Best Parameters: {'activation': 'relu', 'alpha': 0.0001, 'learning_rate': 'adaptive', 'solver': 'adam'}\n"
          ],
          "name": "stdout"
        }
      ]
    },
    {
      "cell_type": "code",
      "metadata": {
        "id": "XI_2h2Q8kS1C",
        "colab": {
          "base_uri": "https://localhost:8080/"
        },
        "outputId": "8387f1fe-2451-456f-8728-b5f75e93a117"
      },
      "source": [
        "#### Pass best parameters to a classifier and check score\n",
        "tuned_mlp = MLPClassifier(**cv_mlp.best_params_)\n",
        "tuned_mlp.fit(X_train_pca, y_train)\n",
        "print(tuned_mlp.score(X_test_pca, y_test))"
      ],
      "execution_count": null,
      "outputs": [
        {
          "output_type": "stream",
          "text": [
            "0.7995238095238095\n"
          ],
          "name": "stdout"
        }
      ]
    },
    {
      "cell_type": "code",
      "metadata": {
        "id": "mmscL5YNuj7s",
        "colab": {
          "base_uri": "https://localhost:8080/"
        },
        "outputId": "e8a5bf07-68a1-4a92-c3d6-32454423c383"
      },
      "source": [
        "from sklearn.externals import joblib \n",
        "\n",
        "joblib.dump(cv_mlp.best_estimator_, '/content/drive/Shareddrives/SI671 Project [Data Mining]/pickles/mlp_gs_best_estimator.pkl')\n",
        "joblib.dump(cv_mlp, '/content/drive/Shareddrives/SI671 Project [Data Mining]/pickles/mlp_gs_model.pkl')"
      ],
      "execution_count": null,
      "outputs": [
        {
          "output_type": "execute_result",
          "data": {
            "text/plain": [
              "['/content/drive/Shareddrives/SI671 Project [Data Mining]/pickles/mlp_gs_model.pkl']"
            ]
          },
          "metadata": {
            "tags": []
          },
          "execution_count": 81
        }
      ]
    },
    {
      "cell_type": "markdown",
      "metadata": {
        "id": "VvlKUxBujTCO"
      },
      "source": [
        "### Final Models\n",
        "- Use the best parameters and model to build our final model\n",
        "- Random Forest the best performing model \n",
        "- Let's be thorough and calculate performance metrics for MLP and XGBoost as well"
      ]
    },
    {
      "cell_type": "code",
      "metadata": {
        "id": "jhYkQwzjHRWl"
      },
      "source": [
        "## FINAL XGB MODEL\n",
        "\n",
        "from sklearn.metrics import accuracy_score, precision_score, recall_score, roc_auc_score, f1_score\n",
        "best_params = {'learning_rate': 0.1, 'max_depth': 5, 'min_child_weight': 5, 'n_estimators': 100, 'objective': 'binary:logistic'}\n",
        "\n",
        "XGB_model = XGBClassifier(**best_params)\n",
        "\n",
        "XGB_model.fit(X_train_pca, y_train)\n",
        "y_XGB_preds = XGB_model.predict(X_test_pca)"
      ],
      "execution_count": null,
      "outputs": []
    },
    {
      "cell_type": "code",
      "metadata": {
        "id": "oZcDgiRfHjfZ"
      },
      "source": [
        "best_F1 = round(f1_score(y_test, y_XGB_preds)*100,4)\n",
        "best_recall = round(recall_score(y_test, y_XGB_preds)*100, 4)\n",
        "best_accuracy = round(accuracy_score(y_test, y_XGB_preds)*100, 4)\n",
        "best_ROC_AUC = round(roc_auc_score(y_test, y_XGB_preds)*100, 4)\n",
        "best_precision = round(precision_score(y_test, y_XGB_preds)*100, 4)"
      ],
      "execution_count": null,
      "outputs": []
    },
    {
      "cell_type": "code",
      "metadata": {
        "colab": {
          "base_uri": "https://localhost:8080/"
        },
        "id": "Go7ENDgkHjPC",
        "outputId": "b7bcde41-46b6-4f54-a043-c880e552de1b"
      },
      "source": [
        "print(f\"Performance Metrics for XGBoost Classifier w/ tuned parameters:\")\n",
        "print(f\"Best performing model (XGB) F1 score: {best_F1}\")\n",
        "print(f\"Best performing model (XGB) Recall score: {best_recall}\")\n",
        "print(f\"Best performing model (XGB) Precision score: {best_precision}\")\n",
        "print(f\"Best performing model (XGB) ROC_AUC score: {best_ROC_AUC}\")\n",
        "print(f\"Best performing model (XGB) Accuracy score: {best_accuracy}\")\n",
        "\n"
      ],
      "execution_count": null,
      "outputs": [
        {
          "output_type": "stream",
          "text": [
            "Performance Metrics for XGBoost Classifier w/ tuned parameters:\n",
            "Best performing model (XGB) F1 score: 81.4798\n",
            "Best performing model (XGB) Recall score: 87.0476\n",
            "Best performing model (XGB) Precision score: 76.5815\n",
            "Best performing model (XGB) ROC_AUC score: 80.2143\n",
            "Best performing model (XGB) Accuracy score: 80.2143\n"
          ],
          "name": "stdout"
        }
      ]
    },
    {
      "cell_type": "code",
      "metadata": {
        "id": "JMUsrGCkiVZ_"
      },
      "source": [
        "## FINAL RANDOM FOREST MODEL\n",
        "\n",
        "from sklearn.metrics import accuracy_score, precision_score, recall_score, roc_auc_score, f1_score\n",
        "best_params = {'criterion': 'gini', 'max_depth': None, 'max_features': 'auto', 'n_estimators': 250}\n",
        "\n",
        "RF_model = RandomForestClassifier(**best_params)\n",
        "\n",
        "RF_model.fit(X_train_pca, y_train)\n",
        "y_RF_preds = RF_model.predict(X_test_pca)"
      ],
      "execution_count": null,
      "outputs": []
    },
    {
      "cell_type": "code",
      "metadata": {
        "id": "kA1WUxdZiVXP"
      },
      "source": [
        "best_F1 = round(f1_score(y_test, y_RF_preds)*100,4)\n",
        "best_recall = round(recall_score(y_test, y_RF_preds)*100, 4)\n",
        "best_accuracy = round(accuracy_score(y_test, y_RF_preds)*100, 4)\n",
        "best_ROC_AUC = round(roc_auc_score(y_test, y_RF_preds)*100, 4)\n",
        "best_precision = round(precision_score(y_test, y_RF_preds)*100, 4)"
      ],
      "execution_count": null,
      "outputs": []
    },
    {
      "cell_type": "code",
      "metadata": {
        "id": "ls7PXkthiVUI",
        "colab": {
          "base_uri": "https://localhost:8080/"
        },
        "outputId": "2ac2f5b7-bd26-434e-b320-c9ee78d4cea0"
      },
      "source": [
        "print(f\"Performance Metrics for Random Forest Classifier w/ tuned parameters:\")\n",
        "print(f\"Best performing model (RF) F1 score: {best_F1}\")\n",
        "print(f\"Best performing model (RF) Recall score: {best_recall}\")\n",
        "print(f\"Best performing model (RF) Precision score: {best_precision}\")\n",
        "print(f\"Best performing model (RF) ROC_AUC score: {best_ROC_AUC}\")\n",
        "print(f\"Best performing model (RF) Accuracy score: {best_accuracy}\")\n",
        "\n"
      ],
      "execution_count": null,
      "outputs": [
        {
          "output_type": "stream",
          "text": [
            "Performance Metrics for Random Forest Classifier w/ tuned parameters:\n",
            "Best performing model (RF) F1 score: 82.0457\n",
            "Best performing model (RF) Recall score: 89.0\n",
            "Best performing model (RF) Precision score: 76.0993\n",
            "Best performing model (RF) ROC_AUC score: 80.5238\n",
            "Best performing model (RF) Accuracy score: 80.5238\n"
          ],
          "name": "stdout"
        }
      ]
    },
    {
      "cell_type": "code",
      "metadata": {
        "id": "9lUaOFjPiVRX"
      },
      "source": [
        "## FINAL MLP CLASSIFIER MODEL\n",
        "\n",
        "from sklearn.metrics import accuracy_score, precision_score, recall_score, roc_auc_score, f1_score\n",
        "best_params = {'activation': 'relu', 'alpha': 0.0001, 'learning_rate': 'adaptive', 'solver': 'adam'}\n",
        "\n",
        "MLP_model = MLPClassifier(**best_params)\n",
        "\n",
        "MLP_model.fit(X_train_pca, y_train)\n",
        "y_MLP_preds = MLP_model.predict(X_test_pca)"
      ],
      "execution_count": null,
      "outputs": []
    },
    {
      "cell_type": "code",
      "metadata": {
        "id": "1IE1-Bz-iVOb"
      },
      "source": [
        "best_F1 = round(f1_score(y_test, y_MLP_preds)*100,4)\n",
        "best_recall = round(recall_score(y_test, y_MLP_preds)*100, 4)\n",
        "best_accuracy = round(accuracy_score(y_test, y_MLP_preds)*100, 4)\n",
        "best_ROC_AUC = round(roc_auc_score(y_test, y_MLP_preds)*100, 4)\n",
        "best_precision = round(precision_score(y_test, y_MLP_preds)*100, 4)"
      ],
      "execution_count": null,
      "outputs": []
    },
    {
      "cell_type": "code",
      "metadata": {
        "id": "Tzb3-XfpiVK1",
        "colab": {
          "base_uri": "https://localhost:8080/"
        },
        "outputId": "60a68447-fbf8-4d9a-9134-aa3a76fae271"
      },
      "source": [
        "print(f\"Performance Metrics for Random Forest Classifier w/ tuned parameters:\")\n",
        "print(f\"Best performing model (RF) F1 score: {best_F1}\")\n",
        "print(f\"Best performing model (RF) Recall score: {best_recall}\")\n",
        "print(f\"Best performing model (RF) Precision score: {best_precision}\")\n",
        "print(f\"Best performing model (RF) ROC_AUC score: {best_ROC_AUC}\")\n",
        "print(f\"Best performing model (RF) Accuracy score: {best_accuracy}\")\n",
        "\n"
      ],
      "execution_count": null,
      "outputs": [
        {
          "output_type": "stream",
          "text": [
            "Performance Metrics for Random Forest Classifier w/ tuned parameters:\n",
            "Best performing model (RF) F1 score: 81.9454\n",
            "Best performing model (RF) Recall score: 87.8571\n",
            "Best performing model (RF) Precision score: 76.779\n",
            "Best performing model (RF) ROC_AUC score: 80.6429\n",
            "Best performing model (RF) Accuracy score: 80.6429\n"
          ],
          "name": "stdout"
        }
      ]
    },
    {
      "cell_type": "code",
      "metadata": {
        "id": "JROFY0d9I4h8"
      },
      "source": [
        ""
      ],
      "execution_count": null,
      "outputs": []
    }
  ]
}